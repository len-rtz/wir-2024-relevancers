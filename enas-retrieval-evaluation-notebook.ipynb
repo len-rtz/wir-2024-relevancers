{
  "cells": [
    {
      "cell_type": "markdown",
      "metadata": {
        "id": "4aOheoD53NfO"
      },
      "source": [
        "# Information Retrieval Lab WiSe 2024/2025: Baseline Retrieval System\n",
        "\n",
        "This Jupyter notebook serves as a baseline retrieval system that you can improve upon.\n",
        "We use subsets of the MS MARCO datasets to retrieve passages of web documents.\n",
        "We will show you how to create a software submission to TIRA from this notebook.\n",
        "\n",
        "An overview of all corpora that we use in the current course is available at [https://tira.io/datasets?query=ir-lab-wise-2024](https://tira.io/datasets?query=ir-lab-wise-2024). The dataset IDs for loading the datasets are:\n",
        "\n",
        "- `ir-lab-wise-2024/subsampled-ms-marco-deep-learning-20241201-training`: A subsample of the TREC 2019/2020 Deep Learning tracks on the MS MARCO v1 passage dataset. Use this dataset to tune your system(s).\n",
        "- `ir-lab-wise-2024/subsampled-ms-marco-rag-20241202-training` (_work in progress_): A subsample of the TREC 2024 Retrieval-Augmented Generation track on the MS MARCO v2.1 passage dataset. Use this dataset to tune your system(s).\n",
        "- `ir-lab-wise-2024/ms-marco-rag-20241203-test` (work in progress): The test corpus that we have created together in the course, based on the MS MARCO v2.1 passage dataset. We will use this dataset as the test dataset, i.e., evaluation scores become available only after the submission deadline."
      ]
    },
    {
      "cell_type": "markdown",
      "metadata": {
        "id": "mPg1Ky-R3NfQ"
      },
      "source": [
        "### Step 1: Import libraries\n",
        "\n",
        "We will use [tira](https://tira.io/), an information retrieval shared task platform, and [ir_dataset](https://ir-datasets.com/) for loading the datasets. Subsequently, we will build a retrieval system with [PyTerrier](https://github.com/terrier-org/pyterrier), an open-source search engine framework."
      ]
    },
    {
      "cell_type": "markdown",
      "metadata": {
        "id": "_ZNIAsit3NfQ"
      },
      "source": [
        "First, we need to install the required libraries."
      ]
    },
    {
      "cell_type": "code",
      "execution_count": 9,
      "metadata": {
        "id": "uVfUb2Dl3NfQ"
      },
      "outputs": [],
      "source": [
        "!pip3 install tira>=0.0.139 ir-datasets python-terrier==0.10.0\n"
      ]
    },
    {
      "cell_type": "markdown",
      "metadata": {
        "id": "j0xI9tYy3NfR"
      },
      "source": [
        "Create an API client to interact with the TIRA platform (e.g., to load datasets and submit runs)."
      ]
    },
    {
      "cell_type": "code",
      "execution_count": 10,
      "metadata": {
        "id": "N5vTfga23NfR"
      },
      "outputs": [],
      "source": [
        "from tira.third_party_integrations import ensure_pyterrier_is_loaded\n",
        "from tira.rest_api_client import Client\n",
        "\n",
        "ensure_pyterrier_is_loaded()\n",
        "tira = Client()"
      ]
    },
    {
      "cell_type": "markdown",
      "metadata": {
        "id": "vzLYLrad3NfS"
      },
      "source": [
        "### Step 2: Load the dataset\n",
        "\n",
        "We load the dataset by its ir_datasets ID (as listed in the Readme). Just be sure to add the `irds:` prefix before the dataset ID to tell PyTerrier to load the data from ir_datasets."
      ]
    },
    {
      "cell_type": "code",
      "execution_count": 11,
      "metadata": {
        "id": "K98lUKvO3NfS"
      },
      "outputs": [],
      "source": [
        "from pyterrier import get_dataset\n",
        "\n",
        "pt_dataset = get_dataset('irds:ir-lab-wise-2024/subsampled-ms-marco-deep-learning-20241201-training')\n"
      ]
    },
    {
      "cell_type": "markdown",
      "metadata": {
        "id": "c6PmTIqK3NfS"
      },
      "source": [
        "### Step 3: Build an index\n",
        "\n",
        "We will then create an index from the documents in the dataset we just loaded."
      ]
    },
    {
      "cell_type": "code",
      "execution_count": 12,
      "metadata": {
        "colab": {
          "base_uri": "https://localhost:8080/",
          "height": 104,
          "referenced_widgets": [
            "2bbc0130a92f4c3f8efac6651778d6ce",
            "c0e4bd14ac794d479bb5992766256406",
            "4b553e2b37bd4ab7b9c7a8a31e509673",
            "fdb52fa4e0cd42db987c272213ec0e56",
            "d3cfeae8734241a8b47458a7d74b31a4",
            "c2823ad82a694f8cbf60d3e11fdee1e3",
            "0806d9831f3c4f3598000ed4001829a8",
            "29d96bd3075a4b91b6e782d1654fc233",
            "4fe859b7aed7422ea95cf034946eb765",
            "747d3ac110184aec8887dcb448361260",
            "f2f1af78efb345248f6efa38ca2ef2de"
          ]
        },
        "id": "2bHo7NMM3NfS",
        "outputId": "19235423-25dc-49c9-df1d-9c5c6fa42c1a"
      },
      "outputs": [
        {
          "output_type": "display_data",
          "data": {
            "text/plain": [
              "ir-lab-wise-2024/subsampled-ms-marco-deep-learning-20241201-training documents:   0%|          | 0/68261 [00:0…"
            ],
            "application/vnd.jupyter.widget-view+json": {
              "version_major": 2,
              "version_minor": 0,
              "model_id": "2bbc0130a92f4c3f8efac6651778d6ce"
            }
          },
          "metadata": {}
        },
        {
          "output_type": "stream",
          "name": "stdout",
          "text": [
            "16:18:00.166 [ForkJoinPool-2-worker-3] WARN org.terrier.structures.indexing.Indexer - Adding an empty document to the index (6114613) - further warnings are suppressed\n",
            "16:18:13.540 [ForkJoinPool-2-worker-3] WARN org.terrier.structures.indexing.Indexer - Indexed 1 empty documents\n"
          ]
        }
      ],
      "source": [
        "from pyterrier import IterDictIndexer\n",
        "\n",
        "indexer = IterDictIndexer(\n",
        "    # Store the index in the `index` directory.\n",
        "    \"../data/index\",\n",
        "    meta={'docno': 50, 'text': 4096},\n",
        "    # If an index already exists there, then overwrite it.\n",
        "    overwrite=True,\n",
        ")\n",
        "index = indexer.index(pt_dataset.get_corpus_iter())"
      ]
    },
    {
      "cell_type": "markdown",
      "metadata": {
        "id": "5UwCMyaX3NfS"
      },
      "source": [
        "### Step 4: Define the retrieval pipeline\n",
        "\n",
        "We will define a simple retrieval pipeline using just BM25 as a baseline. For details, refer to the PyTerrier [documentation](https://pyterrier.readthedocs.io) or [tutorial](https://github.com/terrier-org/ecir2021tutorial)."
      ]
    },
    {
      "cell_type": "code",
      "execution_count": 14,
      "metadata": {
        "id": "tbHTi0-X3NfS"
      },
      "outputs": [],
      "source": [
        "from pyterrier import BatchRetrieve\n",
        "\n",
        "bm25 = BatchRetrieve(index, wmodel=\"BM25\")"
      ]
    },
    {
      "cell_type": "markdown",
      "metadata": {
        "id": "VDXwA-EY3NfS"
      },
      "source": [
        "### Step 5: Create the run\n",
        "In the next steps, we would like to apply our retrieval system to some topics, to prepare a 'run' file, containing the retrieved documents."
      ]
    },
    {
      "cell_type": "markdown",
      "metadata": {
        "id": "87iUktTj3NfT"
      },
      "source": [
        "First, let's have a short look at the first three topics:"
      ]
    },
    {
      "cell_type": "code",
      "execution_count": 11,
      "metadata": {
        "scrolled": true,
        "colab": {
          "base_uri": "https://localhost:8080/",
          "height": 213
        },
        "id": "zvy0W2Pf3NfT",
        "outputId": "05918d82-3e1e-4315-829d-56c4019df460"
      },
      "outputs": [
        {
          "output_type": "stream",
          "name": "stdout",
          "text": [
            "Download from Zenodo: https://zenodo.org/records/14254044/files/subsampled-ms-marco-deep-learning-20241201-training-truths.zip\n"
          ]
        },
        {
          "output_type": "stream",
          "name": "stderr",
          "text": [
            "Download: 100%|██████████| 61.7k/61.7k [00:00<00:00, 276kiB/s]\n"
          ]
        },
        {
          "output_type": "stream",
          "name": "stdout",
          "text": [
            "Download finished. Extract...\n",
            "Extraction finished:  /root/.tira/extracted_datasets/ir-lab-wise-2024/subsampled-ms-marco-deep-learning-20241201-training/\n"
          ]
        },
        {
          "output_type": "execute_result",
          "data": {
            "text/plain": [
              "       qid                             query\n",
              "0  1030303                who is aziz hashim\n",
              "1  1037496                who is rep scalise\n",
              "2  1043135  who killed nicholas ii of russia"
            ],
            "text/html": [
              "\n",
              "  <div id=\"df-94bfdb5f-fdea-4d10-b569-7b824e8a4471\" class=\"colab-df-container\">\n",
              "    <div>\n",
              "<style scoped>\n",
              "    .dataframe tbody tr th:only-of-type {\n",
              "        vertical-align: middle;\n",
              "    }\n",
              "\n",
              "    .dataframe tbody tr th {\n",
              "        vertical-align: top;\n",
              "    }\n",
              "\n",
              "    .dataframe thead th {\n",
              "        text-align: right;\n",
              "    }\n",
              "</style>\n",
              "<table border=\"1\" class=\"dataframe\">\n",
              "  <thead>\n",
              "    <tr style=\"text-align: right;\">\n",
              "      <th></th>\n",
              "      <th>qid</th>\n",
              "      <th>query</th>\n",
              "    </tr>\n",
              "  </thead>\n",
              "  <tbody>\n",
              "    <tr>\n",
              "      <th>0</th>\n",
              "      <td>1030303</td>\n",
              "      <td>who is aziz hashim</td>\n",
              "    </tr>\n",
              "    <tr>\n",
              "      <th>1</th>\n",
              "      <td>1037496</td>\n",
              "      <td>who is rep scalise</td>\n",
              "    </tr>\n",
              "    <tr>\n",
              "      <th>2</th>\n",
              "      <td>1043135</td>\n",
              "      <td>who killed nicholas ii of russia</td>\n",
              "    </tr>\n",
              "  </tbody>\n",
              "</table>\n",
              "</div>\n",
              "    <div class=\"colab-df-buttons\">\n",
              "\n",
              "  <div class=\"colab-df-container\">\n",
              "    <button class=\"colab-df-convert\" onclick=\"convertToInteractive('df-94bfdb5f-fdea-4d10-b569-7b824e8a4471')\"\n",
              "            title=\"Convert this dataframe to an interactive table.\"\n",
              "            style=\"display:none;\">\n",
              "\n",
              "  <svg xmlns=\"http://www.w3.org/2000/svg\" height=\"24px\" viewBox=\"0 -960 960 960\">\n",
              "    <path d=\"M120-120v-720h720v720H120Zm60-500h600v-160H180v160Zm220 220h160v-160H400v160Zm0 220h160v-160H400v160ZM180-400h160v-160H180v160Zm440 0h160v-160H620v160ZM180-180h160v-160H180v160Zm440 0h160v-160H620v160Z\"/>\n",
              "  </svg>\n",
              "    </button>\n",
              "\n",
              "  <style>\n",
              "    .colab-df-container {\n",
              "      display:flex;\n",
              "      gap: 12px;\n",
              "    }\n",
              "\n",
              "    .colab-df-convert {\n",
              "      background-color: #E8F0FE;\n",
              "      border: none;\n",
              "      border-radius: 50%;\n",
              "      cursor: pointer;\n",
              "      display: none;\n",
              "      fill: #1967D2;\n",
              "      height: 32px;\n",
              "      padding: 0 0 0 0;\n",
              "      width: 32px;\n",
              "    }\n",
              "\n",
              "    .colab-df-convert:hover {\n",
              "      background-color: #E2EBFA;\n",
              "      box-shadow: 0px 1px 2px rgba(60, 64, 67, 0.3), 0px 1px 3px 1px rgba(60, 64, 67, 0.15);\n",
              "      fill: #174EA6;\n",
              "    }\n",
              "\n",
              "    .colab-df-buttons div {\n",
              "      margin-bottom: 4px;\n",
              "    }\n",
              "\n",
              "    [theme=dark] .colab-df-convert {\n",
              "      background-color: #3B4455;\n",
              "      fill: #D2E3FC;\n",
              "    }\n",
              "\n",
              "    [theme=dark] .colab-df-convert:hover {\n",
              "      background-color: #434B5C;\n",
              "      box-shadow: 0px 1px 3px 1px rgba(0, 0, 0, 0.15);\n",
              "      filter: drop-shadow(0px 1px 2px rgba(0, 0, 0, 0.3));\n",
              "      fill: #FFFFFF;\n",
              "    }\n",
              "  </style>\n",
              "\n",
              "    <script>\n",
              "      const buttonEl =\n",
              "        document.querySelector('#df-94bfdb5f-fdea-4d10-b569-7b824e8a4471 button.colab-df-convert');\n",
              "      buttonEl.style.display =\n",
              "        google.colab.kernel.accessAllowed ? 'block' : 'none';\n",
              "\n",
              "      async function convertToInteractive(key) {\n",
              "        const element = document.querySelector('#df-94bfdb5f-fdea-4d10-b569-7b824e8a4471');\n",
              "        const dataTable =\n",
              "          await google.colab.kernel.invokeFunction('convertToInteractive',\n",
              "                                                    [key], {});\n",
              "        if (!dataTable) return;\n",
              "\n",
              "        const docLinkHtml = 'Like what you see? Visit the ' +\n",
              "          '<a target=\"_blank\" href=https://colab.research.google.com/notebooks/data_table.ipynb>data table notebook</a>'\n",
              "          + ' to learn more about interactive tables.';\n",
              "        element.innerHTML = '';\n",
              "        dataTable['output_type'] = 'display_data';\n",
              "        await google.colab.output.renderOutput(dataTable, element);\n",
              "        const docLink = document.createElement('div');\n",
              "        docLink.innerHTML = docLinkHtml;\n",
              "        element.appendChild(docLink);\n",
              "      }\n",
              "    </script>\n",
              "  </div>\n",
              "\n",
              "\n",
              "<div id=\"df-d7dbfa01-aa0c-4222-93b7-53c27e56fe22\">\n",
              "  <button class=\"colab-df-quickchart\" onclick=\"quickchart('df-d7dbfa01-aa0c-4222-93b7-53c27e56fe22')\"\n",
              "            title=\"Suggest charts\"\n",
              "            style=\"display:none;\">\n",
              "\n",
              "<svg xmlns=\"http://www.w3.org/2000/svg\" height=\"24px\"viewBox=\"0 0 24 24\"\n",
              "     width=\"24px\">\n",
              "    <g>\n",
              "        <path d=\"M19 3H5c-1.1 0-2 .9-2 2v14c0 1.1.9 2 2 2h14c1.1 0 2-.9 2-2V5c0-1.1-.9-2-2-2zM9 17H7v-7h2v7zm4 0h-2V7h2v10zm4 0h-2v-4h2v4z\"/>\n",
              "    </g>\n",
              "</svg>\n",
              "  </button>\n",
              "\n",
              "<style>\n",
              "  .colab-df-quickchart {\n",
              "      --bg-color: #E8F0FE;\n",
              "      --fill-color: #1967D2;\n",
              "      --hover-bg-color: #E2EBFA;\n",
              "      --hover-fill-color: #174EA6;\n",
              "      --disabled-fill-color: #AAA;\n",
              "      --disabled-bg-color: #DDD;\n",
              "  }\n",
              "\n",
              "  [theme=dark] .colab-df-quickchart {\n",
              "      --bg-color: #3B4455;\n",
              "      --fill-color: #D2E3FC;\n",
              "      --hover-bg-color: #434B5C;\n",
              "      --hover-fill-color: #FFFFFF;\n",
              "      --disabled-bg-color: #3B4455;\n",
              "      --disabled-fill-color: #666;\n",
              "  }\n",
              "\n",
              "  .colab-df-quickchart {\n",
              "    background-color: var(--bg-color);\n",
              "    border: none;\n",
              "    border-radius: 50%;\n",
              "    cursor: pointer;\n",
              "    display: none;\n",
              "    fill: var(--fill-color);\n",
              "    height: 32px;\n",
              "    padding: 0;\n",
              "    width: 32px;\n",
              "  }\n",
              "\n",
              "  .colab-df-quickchart:hover {\n",
              "    background-color: var(--hover-bg-color);\n",
              "    box-shadow: 0 1px 2px rgba(60, 64, 67, 0.3), 0 1px 3px 1px rgba(60, 64, 67, 0.15);\n",
              "    fill: var(--button-hover-fill-color);\n",
              "  }\n",
              "\n",
              "  .colab-df-quickchart-complete:disabled,\n",
              "  .colab-df-quickchart-complete:disabled:hover {\n",
              "    background-color: var(--disabled-bg-color);\n",
              "    fill: var(--disabled-fill-color);\n",
              "    box-shadow: none;\n",
              "  }\n",
              "\n",
              "  .colab-df-spinner {\n",
              "    border: 2px solid var(--fill-color);\n",
              "    border-color: transparent;\n",
              "    border-bottom-color: var(--fill-color);\n",
              "    animation:\n",
              "      spin 1s steps(1) infinite;\n",
              "  }\n",
              "\n",
              "  @keyframes spin {\n",
              "    0% {\n",
              "      border-color: transparent;\n",
              "      border-bottom-color: var(--fill-color);\n",
              "      border-left-color: var(--fill-color);\n",
              "    }\n",
              "    20% {\n",
              "      border-color: transparent;\n",
              "      border-left-color: var(--fill-color);\n",
              "      border-top-color: var(--fill-color);\n",
              "    }\n",
              "    30% {\n",
              "      border-color: transparent;\n",
              "      border-left-color: var(--fill-color);\n",
              "      border-top-color: var(--fill-color);\n",
              "      border-right-color: var(--fill-color);\n",
              "    }\n",
              "    40% {\n",
              "      border-color: transparent;\n",
              "      border-right-color: var(--fill-color);\n",
              "      border-top-color: var(--fill-color);\n",
              "    }\n",
              "    60% {\n",
              "      border-color: transparent;\n",
              "      border-right-color: var(--fill-color);\n",
              "    }\n",
              "    80% {\n",
              "      border-color: transparent;\n",
              "      border-right-color: var(--fill-color);\n",
              "      border-bottom-color: var(--fill-color);\n",
              "    }\n",
              "    90% {\n",
              "      border-color: transparent;\n",
              "      border-bottom-color: var(--fill-color);\n",
              "    }\n",
              "  }\n",
              "</style>\n",
              "\n",
              "  <script>\n",
              "    async function quickchart(key) {\n",
              "      const quickchartButtonEl =\n",
              "        document.querySelector('#' + key + ' button');\n",
              "      quickchartButtonEl.disabled = true;  // To prevent multiple clicks.\n",
              "      quickchartButtonEl.classList.add('colab-df-spinner');\n",
              "      try {\n",
              "        const charts = await google.colab.kernel.invokeFunction(\n",
              "            'suggestCharts', [key], {});\n",
              "      } catch (error) {\n",
              "        console.error('Error during call to suggestCharts:', error);\n",
              "      }\n",
              "      quickchartButtonEl.classList.remove('colab-df-spinner');\n",
              "      quickchartButtonEl.classList.add('colab-df-quickchart-complete');\n",
              "    }\n",
              "    (() => {\n",
              "      let quickchartButtonEl =\n",
              "        document.querySelector('#df-d7dbfa01-aa0c-4222-93b7-53c27e56fe22 button');\n",
              "      quickchartButtonEl.style.display =\n",
              "        google.colab.kernel.accessAllowed ? 'block' : 'none';\n",
              "    })();\n",
              "  </script>\n",
              "</div>\n",
              "\n",
              "    </div>\n",
              "  </div>\n"
            ],
            "application/vnd.google.colaboratory.intrinsic+json": {
              "type": "dataframe",
              "summary": "{\n  \"name\": \"pt_dataset\",\n  \"rows\": 3,\n  \"fields\": [\n    {\n      \"column\": \"qid\",\n      \"properties\": {\n        \"dtype\": \"string\",\n        \"num_unique_values\": 3,\n        \"samples\": [\n          \"1030303\",\n          \"1037496\",\n          \"1043135\"\n        ],\n        \"semantic_type\": \"\",\n        \"description\": \"\"\n      }\n    },\n    {\n      \"column\": \"query\",\n      \"properties\": {\n        \"dtype\": \"string\",\n        \"num_unique_values\": 3,\n        \"samples\": [\n          \"who is aziz hashim\",\n          \"who is rep scalise\",\n          \"who killed nicholas ii of russia\"\n        ],\n        \"semantic_type\": \"\",\n        \"description\": \"\"\n      }\n    }\n  ]\n}"
            }
          },
          "metadata": {},
          "execution_count": 11
        }
      ],
      "source": [
        "# The `'text'` argument below selects the topics `text` field as the query.\n",
        "pt_dataset.get_topics('text').head(3)"
      ]
    },
    {
      "cell_type": "markdown",
      "metadata": {
        "id": "5Mjlxj893NfT"
      },
      "source": [
        "Now, retrieve results for all the topics (may take a while):"
      ]
    },
    {
      "cell_type": "code",
      "execution_count": 15,
      "metadata": {
        "id": "Bkc2Gnhy3NfT"
      },
      "outputs": [],
      "source": [
        "run = bm25(pt_dataset.get_topics('text'))"
      ]
    },
    {
      "cell_type": "markdown",
      "metadata": {
        "id": "JpQLi5nF3NfT"
      },
      "source": [
        "That's it for the retrieval. Here are the first 10 entries of the run:"
      ]
    },
    {
      "cell_type": "code",
      "execution_count": 16,
      "metadata": {
        "scrolled": true,
        "colab": {
          "base_uri": "https://localhost:8080/",
          "height": 363
        },
        "id": "Y-djGOm63NfT",
        "outputId": "dcb4f2fe-da82-4f8f-9859-853ea9be817f"
      },
      "outputs": [
        {
          "output_type": "execute_result",
          "data": {
            "text/plain": [
              "       qid  docid    docno  rank      score               query\n",
              "0  1030303  53852  8726436     0  31.681671  who is aziz hashim\n",
              "1  1030303  56041  8726433     1  25.966276  who is aziz hashim\n",
              "2  1030303  62116  8726435     2  23.863442  who is aziz hashim\n",
              "3  1030303  32183  8726429     3  23.391821  who is aziz hashim\n",
              "4  1030303  35867  8726437     4  21.030669  who is aziz hashim\n",
              "5  1030303  17637  8726430     5  19.967200  who is aziz hashim\n",
              "6  1030303  42957  7156982     6  19.967200  who is aziz hashim\n",
              "7  1030303  21803  8726434     7  19.474804  who is aziz hashim\n",
              "8  1030303  59828  1305520     8  17.849161  who is aziz hashim\n",
              "9  1030303  60002  3302257     9  17.832781  who is aziz hashim"
            ],
            "text/html": [
              "\n",
              "  <div id=\"df-56d1efef-df49-4be6-99cd-f503e804d9eb\" class=\"colab-df-container\">\n",
              "    <div>\n",
              "<style scoped>\n",
              "    .dataframe tbody tr th:only-of-type {\n",
              "        vertical-align: middle;\n",
              "    }\n",
              "\n",
              "    .dataframe tbody tr th {\n",
              "        vertical-align: top;\n",
              "    }\n",
              "\n",
              "    .dataframe thead th {\n",
              "        text-align: right;\n",
              "    }\n",
              "</style>\n",
              "<table border=\"1\" class=\"dataframe\">\n",
              "  <thead>\n",
              "    <tr style=\"text-align: right;\">\n",
              "      <th></th>\n",
              "      <th>qid</th>\n",
              "      <th>docid</th>\n",
              "      <th>docno</th>\n",
              "      <th>rank</th>\n",
              "      <th>score</th>\n",
              "      <th>query</th>\n",
              "    </tr>\n",
              "  </thead>\n",
              "  <tbody>\n",
              "    <tr>\n",
              "      <th>0</th>\n",
              "      <td>1030303</td>\n",
              "      <td>53852</td>\n",
              "      <td>8726436</td>\n",
              "      <td>0</td>\n",
              "      <td>31.681671</td>\n",
              "      <td>who is aziz hashim</td>\n",
              "    </tr>\n",
              "    <tr>\n",
              "      <th>1</th>\n",
              "      <td>1030303</td>\n",
              "      <td>56041</td>\n",
              "      <td>8726433</td>\n",
              "      <td>1</td>\n",
              "      <td>25.966276</td>\n",
              "      <td>who is aziz hashim</td>\n",
              "    </tr>\n",
              "    <tr>\n",
              "      <th>2</th>\n",
              "      <td>1030303</td>\n",
              "      <td>62116</td>\n",
              "      <td>8726435</td>\n",
              "      <td>2</td>\n",
              "      <td>23.863442</td>\n",
              "      <td>who is aziz hashim</td>\n",
              "    </tr>\n",
              "    <tr>\n",
              "      <th>3</th>\n",
              "      <td>1030303</td>\n",
              "      <td>32183</td>\n",
              "      <td>8726429</td>\n",
              "      <td>3</td>\n",
              "      <td>23.391821</td>\n",
              "      <td>who is aziz hashim</td>\n",
              "    </tr>\n",
              "    <tr>\n",
              "      <th>4</th>\n",
              "      <td>1030303</td>\n",
              "      <td>35867</td>\n",
              "      <td>8726437</td>\n",
              "      <td>4</td>\n",
              "      <td>21.030669</td>\n",
              "      <td>who is aziz hashim</td>\n",
              "    </tr>\n",
              "    <tr>\n",
              "      <th>5</th>\n",
              "      <td>1030303</td>\n",
              "      <td>17637</td>\n",
              "      <td>8726430</td>\n",
              "      <td>5</td>\n",
              "      <td>19.967200</td>\n",
              "      <td>who is aziz hashim</td>\n",
              "    </tr>\n",
              "    <tr>\n",
              "      <th>6</th>\n",
              "      <td>1030303</td>\n",
              "      <td>42957</td>\n",
              "      <td>7156982</td>\n",
              "      <td>6</td>\n",
              "      <td>19.967200</td>\n",
              "      <td>who is aziz hashim</td>\n",
              "    </tr>\n",
              "    <tr>\n",
              "      <th>7</th>\n",
              "      <td>1030303</td>\n",
              "      <td>21803</td>\n",
              "      <td>8726434</td>\n",
              "      <td>7</td>\n",
              "      <td>19.474804</td>\n",
              "      <td>who is aziz hashim</td>\n",
              "    </tr>\n",
              "    <tr>\n",
              "      <th>8</th>\n",
              "      <td>1030303</td>\n",
              "      <td>59828</td>\n",
              "      <td>1305520</td>\n",
              "      <td>8</td>\n",
              "      <td>17.849161</td>\n",
              "      <td>who is aziz hashim</td>\n",
              "    </tr>\n",
              "    <tr>\n",
              "      <th>9</th>\n",
              "      <td>1030303</td>\n",
              "      <td>60002</td>\n",
              "      <td>3302257</td>\n",
              "      <td>9</td>\n",
              "      <td>17.832781</td>\n",
              "      <td>who is aziz hashim</td>\n",
              "    </tr>\n",
              "  </tbody>\n",
              "</table>\n",
              "</div>\n",
              "    <div class=\"colab-df-buttons\">\n",
              "\n",
              "  <div class=\"colab-df-container\">\n",
              "    <button class=\"colab-df-convert\" onclick=\"convertToInteractive('df-56d1efef-df49-4be6-99cd-f503e804d9eb')\"\n",
              "            title=\"Convert this dataframe to an interactive table.\"\n",
              "            style=\"display:none;\">\n",
              "\n",
              "  <svg xmlns=\"http://www.w3.org/2000/svg\" height=\"24px\" viewBox=\"0 -960 960 960\">\n",
              "    <path d=\"M120-120v-720h720v720H120Zm60-500h600v-160H180v160Zm220 220h160v-160H400v160Zm0 220h160v-160H400v160ZM180-400h160v-160H180v160Zm440 0h160v-160H620v160ZM180-180h160v-160H180v160Zm440 0h160v-160H620v160Z\"/>\n",
              "  </svg>\n",
              "    </button>\n",
              "\n",
              "  <style>\n",
              "    .colab-df-container {\n",
              "      display:flex;\n",
              "      gap: 12px;\n",
              "    }\n",
              "\n",
              "    .colab-df-convert {\n",
              "      background-color: #E8F0FE;\n",
              "      border: none;\n",
              "      border-radius: 50%;\n",
              "      cursor: pointer;\n",
              "      display: none;\n",
              "      fill: #1967D2;\n",
              "      height: 32px;\n",
              "      padding: 0 0 0 0;\n",
              "      width: 32px;\n",
              "    }\n",
              "\n",
              "    .colab-df-convert:hover {\n",
              "      background-color: #E2EBFA;\n",
              "      box-shadow: 0px 1px 2px rgba(60, 64, 67, 0.3), 0px 1px 3px 1px rgba(60, 64, 67, 0.15);\n",
              "      fill: #174EA6;\n",
              "    }\n",
              "\n",
              "    .colab-df-buttons div {\n",
              "      margin-bottom: 4px;\n",
              "    }\n",
              "\n",
              "    [theme=dark] .colab-df-convert {\n",
              "      background-color: #3B4455;\n",
              "      fill: #D2E3FC;\n",
              "    }\n",
              "\n",
              "    [theme=dark] .colab-df-convert:hover {\n",
              "      background-color: #434B5C;\n",
              "      box-shadow: 0px 1px 3px 1px rgba(0, 0, 0, 0.15);\n",
              "      filter: drop-shadow(0px 1px 2px rgba(0, 0, 0, 0.3));\n",
              "      fill: #FFFFFF;\n",
              "    }\n",
              "  </style>\n",
              "\n",
              "    <script>\n",
              "      const buttonEl =\n",
              "        document.querySelector('#df-56d1efef-df49-4be6-99cd-f503e804d9eb button.colab-df-convert');\n",
              "      buttonEl.style.display =\n",
              "        google.colab.kernel.accessAllowed ? 'block' : 'none';\n",
              "\n",
              "      async function convertToInteractive(key) {\n",
              "        const element = document.querySelector('#df-56d1efef-df49-4be6-99cd-f503e804d9eb');\n",
              "        const dataTable =\n",
              "          await google.colab.kernel.invokeFunction('convertToInteractive',\n",
              "                                                    [key], {});\n",
              "        if (!dataTable) return;\n",
              "\n",
              "        const docLinkHtml = 'Like what you see? Visit the ' +\n",
              "          '<a target=\"_blank\" href=https://colab.research.google.com/notebooks/data_table.ipynb>data table notebook</a>'\n",
              "          + ' to learn more about interactive tables.';\n",
              "        element.innerHTML = '';\n",
              "        dataTable['output_type'] = 'display_data';\n",
              "        await google.colab.output.renderOutput(dataTable, element);\n",
              "        const docLink = document.createElement('div');\n",
              "        docLink.innerHTML = docLinkHtml;\n",
              "        element.appendChild(docLink);\n",
              "      }\n",
              "    </script>\n",
              "  </div>\n",
              "\n",
              "\n",
              "<div id=\"df-970c4638-c935-4e44-92ad-eec53231c0b9\">\n",
              "  <button class=\"colab-df-quickchart\" onclick=\"quickchart('df-970c4638-c935-4e44-92ad-eec53231c0b9')\"\n",
              "            title=\"Suggest charts\"\n",
              "            style=\"display:none;\">\n",
              "\n",
              "<svg xmlns=\"http://www.w3.org/2000/svg\" height=\"24px\"viewBox=\"0 0 24 24\"\n",
              "     width=\"24px\">\n",
              "    <g>\n",
              "        <path d=\"M19 3H5c-1.1 0-2 .9-2 2v14c0 1.1.9 2 2 2h14c1.1 0 2-.9 2-2V5c0-1.1-.9-2-2-2zM9 17H7v-7h2v7zm4 0h-2V7h2v10zm4 0h-2v-4h2v4z\"/>\n",
              "    </g>\n",
              "</svg>\n",
              "  </button>\n",
              "\n",
              "<style>\n",
              "  .colab-df-quickchart {\n",
              "      --bg-color: #E8F0FE;\n",
              "      --fill-color: #1967D2;\n",
              "      --hover-bg-color: #E2EBFA;\n",
              "      --hover-fill-color: #174EA6;\n",
              "      --disabled-fill-color: #AAA;\n",
              "      --disabled-bg-color: #DDD;\n",
              "  }\n",
              "\n",
              "  [theme=dark] .colab-df-quickchart {\n",
              "      --bg-color: #3B4455;\n",
              "      --fill-color: #D2E3FC;\n",
              "      --hover-bg-color: #434B5C;\n",
              "      --hover-fill-color: #FFFFFF;\n",
              "      --disabled-bg-color: #3B4455;\n",
              "      --disabled-fill-color: #666;\n",
              "  }\n",
              "\n",
              "  .colab-df-quickchart {\n",
              "    background-color: var(--bg-color);\n",
              "    border: none;\n",
              "    border-radius: 50%;\n",
              "    cursor: pointer;\n",
              "    display: none;\n",
              "    fill: var(--fill-color);\n",
              "    height: 32px;\n",
              "    padding: 0;\n",
              "    width: 32px;\n",
              "  }\n",
              "\n",
              "  .colab-df-quickchart:hover {\n",
              "    background-color: var(--hover-bg-color);\n",
              "    box-shadow: 0 1px 2px rgba(60, 64, 67, 0.3), 0 1px 3px 1px rgba(60, 64, 67, 0.15);\n",
              "    fill: var(--button-hover-fill-color);\n",
              "  }\n",
              "\n",
              "  .colab-df-quickchart-complete:disabled,\n",
              "  .colab-df-quickchart-complete:disabled:hover {\n",
              "    background-color: var(--disabled-bg-color);\n",
              "    fill: var(--disabled-fill-color);\n",
              "    box-shadow: none;\n",
              "  }\n",
              "\n",
              "  .colab-df-spinner {\n",
              "    border: 2px solid var(--fill-color);\n",
              "    border-color: transparent;\n",
              "    border-bottom-color: var(--fill-color);\n",
              "    animation:\n",
              "      spin 1s steps(1) infinite;\n",
              "  }\n",
              "\n",
              "  @keyframes spin {\n",
              "    0% {\n",
              "      border-color: transparent;\n",
              "      border-bottom-color: var(--fill-color);\n",
              "      border-left-color: var(--fill-color);\n",
              "    }\n",
              "    20% {\n",
              "      border-color: transparent;\n",
              "      border-left-color: var(--fill-color);\n",
              "      border-top-color: var(--fill-color);\n",
              "    }\n",
              "    30% {\n",
              "      border-color: transparent;\n",
              "      border-left-color: var(--fill-color);\n",
              "      border-top-color: var(--fill-color);\n",
              "      border-right-color: var(--fill-color);\n",
              "    }\n",
              "    40% {\n",
              "      border-color: transparent;\n",
              "      border-right-color: var(--fill-color);\n",
              "      border-top-color: var(--fill-color);\n",
              "    }\n",
              "    60% {\n",
              "      border-color: transparent;\n",
              "      border-right-color: var(--fill-color);\n",
              "    }\n",
              "    80% {\n",
              "      border-color: transparent;\n",
              "      border-right-color: var(--fill-color);\n",
              "      border-bottom-color: var(--fill-color);\n",
              "    }\n",
              "    90% {\n",
              "      border-color: transparent;\n",
              "      border-bottom-color: var(--fill-color);\n",
              "    }\n",
              "  }\n",
              "</style>\n",
              "\n",
              "  <script>\n",
              "    async function quickchart(key) {\n",
              "      const quickchartButtonEl =\n",
              "        document.querySelector('#' + key + ' button');\n",
              "      quickchartButtonEl.disabled = true;  // To prevent multiple clicks.\n",
              "      quickchartButtonEl.classList.add('colab-df-spinner');\n",
              "      try {\n",
              "        const charts = await google.colab.kernel.invokeFunction(\n",
              "            'suggestCharts', [key], {});\n",
              "      } catch (error) {\n",
              "        console.error('Error during call to suggestCharts:', error);\n",
              "      }\n",
              "      quickchartButtonEl.classList.remove('colab-df-spinner');\n",
              "      quickchartButtonEl.classList.add('colab-df-quickchart-complete');\n",
              "    }\n",
              "    (() => {\n",
              "      let quickchartButtonEl =\n",
              "        document.querySelector('#df-970c4638-c935-4e44-92ad-eec53231c0b9 button');\n",
              "      quickchartButtonEl.style.display =\n",
              "        google.colab.kernel.accessAllowed ? 'block' : 'none';\n",
              "    })();\n",
              "  </script>\n",
              "</div>\n",
              "\n",
              "    </div>\n",
              "  </div>\n"
            ],
            "application/vnd.google.colaboratory.intrinsic+json": {
              "type": "dataframe",
              "variable_name": "run",
              "summary": "{\n  \"name\": \"run\",\n  \"rows\": 91067,\n  \"fields\": [\n    {\n      \"column\": \"qid\",\n      \"properties\": {\n        \"dtype\": \"category\",\n        \"num_unique_values\": 97,\n        \"samples\": [\n          \"527433\",\n          \"555530\",\n          \"182539\"\n        ],\n        \"semantic_type\": \"\",\n        \"description\": \"\"\n      }\n    },\n    {\n      \"column\": \"docid\",\n      \"properties\": {\n        \"dtype\": \"number\",\n        \"std\": 19721,\n        \"min\": 1,\n        \"max\": 68260,\n        \"num_unique_values\": 57273,\n        \"samples\": [\n          39935,\n          31766,\n          30122\n        ],\n        \"semantic_type\": \"\",\n        \"description\": \"\"\n      }\n    },\n    {\n      \"column\": \"docno\",\n      \"properties\": {\n        \"dtype\": \"string\",\n        \"num_unique_values\": 57273,\n        \"samples\": [\n          \"4380924\",\n          \"4355647\",\n          \"299935\"\n        ],\n        \"semantic_type\": \"\",\n        \"description\": \"\"\n      }\n    },\n    {\n      \"column\": \"rank\",\n      \"properties\": {\n        \"dtype\": \"number\",\n        \"std\": 288,\n        \"min\": 0,\n        \"max\": 999,\n        \"num_unique_values\": 1000,\n        \"samples\": [\n          521,\n          737,\n          740\n        ],\n        \"semantic_type\": \"\",\n        \"description\": \"\"\n      }\n    },\n    {\n      \"column\": \"score\",\n      \"properties\": {\n        \"dtype\": \"number\",\n        \"std\": 6.226411840383979,\n        \"min\": 3.828749176264693,\n        \"max\": 57.92588965512698,\n        \"num_unique_values\": 47009,\n        \"samples\": [\n          8.19237789476778,\n          14.510880142261009,\n          16.804241743319864\n        ],\n        \"semantic_type\": \"\",\n        \"description\": \"\"\n      }\n    },\n    {\n      \"column\": \"query\",\n      \"properties\": {\n        \"dtype\": \"category\",\n        \"num_unique_values\": 97,\n        \"samples\": [\n          \"types of dysarthria from cerebral palsy\",\n          \"what are best foods to lower cholesterol\",\n          \"example of monotonic function\"\n        ],\n        \"semantic_type\": \"\",\n        \"description\": \"\"\n      }\n    }\n  ]\n}"
            }
          },
          "metadata": {},
          "execution_count": 16
        }
      ],
      "source": [
        "run.head(10)"
      ]
    },
    {
      "cell_type": "markdown",
      "metadata": {
        "id": "m-wsrV1c3NfT"
      },
      "source": [
        "### Step 6: Evaluate your run\n"
      ]
    },
    {
      "cell_type": "code",
      "execution_count": 17,
      "metadata": {
        "colab": {
          "base_uri": "https://localhost:8080/",
          "height": 81
        },
        "id": "BzCtk5EE3NfT",
        "outputId": "d0d9dadb-93c9-4680-8664-5209974c24d0"
      },
      "outputs": [
        {
          "output_type": "execute_result",
          "data": {
            "text/plain": [
              "       name       map  recip_rank  ndcg_cut_10       P_1      P_5      P_10\n",
              "0  BR(BM25)  0.412718    0.786653     0.489469  0.701031  0.62268  0.574227"
            ],
            "text/html": [
              "\n",
              "  <div id=\"df-fb5b83c9-1059-48a5-837b-106e637c7553\" class=\"colab-df-container\">\n",
              "    <div>\n",
              "<style scoped>\n",
              "    .dataframe tbody tr th:only-of-type {\n",
              "        vertical-align: middle;\n",
              "    }\n",
              "\n",
              "    .dataframe tbody tr th {\n",
              "        vertical-align: top;\n",
              "    }\n",
              "\n",
              "    .dataframe thead th {\n",
              "        text-align: right;\n",
              "    }\n",
              "</style>\n",
              "<table border=\"1\" class=\"dataframe\">\n",
              "  <thead>\n",
              "    <tr style=\"text-align: right;\">\n",
              "      <th></th>\n",
              "      <th>name</th>\n",
              "      <th>map</th>\n",
              "      <th>recip_rank</th>\n",
              "      <th>ndcg_cut_10</th>\n",
              "      <th>P_1</th>\n",
              "      <th>P_5</th>\n",
              "      <th>P_10</th>\n",
              "    </tr>\n",
              "  </thead>\n",
              "  <tbody>\n",
              "    <tr>\n",
              "      <th>0</th>\n",
              "      <td>BR(BM25)</td>\n",
              "      <td>0.412718</td>\n",
              "      <td>0.786653</td>\n",
              "      <td>0.489469</td>\n",
              "      <td>0.701031</td>\n",
              "      <td>0.62268</td>\n",
              "      <td>0.574227</td>\n",
              "    </tr>\n",
              "  </tbody>\n",
              "</table>\n",
              "</div>\n",
              "    <div class=\"colab-df-buttons\">\n",
              "\n",
              "  <div class=\"colab-df-container\">\n",
              "    <button class=\"colab-df-convert\" onclick=\"convertToInteractive('df-fb5b83c9-1059-48a5-837b-106e637c7553')\"\n",
              "            title=\"Convert this dataframe to an interactive table.\"\n",
              "            style=\"display:none;\">\n",
              "\n",
              "  <svg xmlns=\"http://www.w3.org/2000/svg\" height=\"24px\" viewBox=\"0 -960 960 960\">\n",
              "    <path d=\"M120-120v-720h720v720H120Zm60-500h600v-160H180v160Zm220 220h160v-160H400v160Zm0 220h160v-160H400v160ZM180-400h160v-160H180v160Zm440 0h160v-160H620v160ZM180-180h160v-160H180v160Zm440 0h160v-160H620v160Z\"/>\n",
              "  </svg>\n",
              "    </button>\n",
              "\n",
              "  <style>\n",
              "    .colab-df-container {\n",
              "      display:flex;\n",
              "      gap: 12px;\n",
              "    }\n",
              "\n",
              "    .colab-df-convert {\n",
              "      background-color: #E8F0FE;\n",
              "      border: none;\n",
              "      border-radius: 50%;\n",
              "      cursor: pointer;\n",
              "      display: none;\n",
              "      fill: #1967D2;\n",
              "      height: 32px;\n",
              "      padding: 0 0 0 0;\n",
              "      width: 32px;\n",
              "    }\n",
              "\n",
              "    .colab-df-convert:hover {\n",
              "      background-color: #E2EBFA;\n",
              "      box-shadow: 0px 1px 2px rgba(60, 64, 67, 0.3), 0px 1px 3px 1px rgba(60, 64, 67, 0.15);\n",
              "      fill: #174EA6;\n",
              "    }\n",
              "\n",
              "    .colab-df-buttons div {\n",
              "      margin-bottom: 4px;\n",
              "    }\n",
              "\n",
              "    [theme=dark] .colab-df-convert {\n",
              "      background-color: #3B4455;\n",
              "      fill: #D2E3FC;\n",
              "    }\n",
              "\n",
              "    [theme=dark] .colab-df-convert:hover {\n",
              "      background-color: #434B5C;\n",
              "      box-shadow: 0px 1px 3px 1px rgba(0, 0, 0, 0.15);\n",
              "      filter: drop-shadow(0px 1px 2px rgba(0, 0, 0, 0.3));\n",
              "      fill: #FFFFFF;\n",
              "    }\n",
              "  </style>\n",
              "\n",
              "    <script>\n",
              "      const buttonEl =\n",
              "        document.querySelector('#df-fb5b83c9-1059-48a5-837b-106e637c7553 button.colab-df-convert');\n",
              "      buttonEl.style.display =\n",
              "        google.colab.kernel.accessAllowed ? 'block' : 'none';\n",
              "\n",
              "      async function convertToInteractive(key) {\n",
              "        const element = document.querySelector('#df-fb5b83c9-1059-48a5-837b-106e637c7553');\n",
              "        const dataTable =\n",
              "          await google.colab.kernel.invokeFunction('convertToInteractive',\n",
              "                                                    [key], {});\n",
              "        if (!dataTable) return;\n",
              "\n",
              "        const docLinkHtml = 'Like what you see? Visit the ' +\n",
              "          '<a target=\"_blank\" href=https://colab.research.google.com/notebooks/data_table.ipynb>data table notebook</a>'\n",
              "          + ' to learn more about interactive tables.';\n",
              "        element.innerHTML = '';\n",
              "        dataTable['output_type'] = 'display_data';\n",
              "        await google.colab.output.renderOutput(dataTable, element);\n",
              "        const docLink = document.createElement('div');\n",
              "        docLink.innerHTML = docLinkHtml;\n",
              "        element.appendChild(docLink);\n",
              "      }\n",
              "    </script>\n",
              "  </div>\n",
              "\n",
              "\n",
              "    </div>\n",
              "  </div>\n"
            ],
            "application/vnd.google.colaboratory.intrinsic+json": {
              "type": "dataframe",
              "summary": "{\n  \"name\": \")\",\n  \"rows\": 1,\n  \"fields\": [\n    {\n      \"column\": \"name\",\n      \"properties\": {\n        \"dtype\": \"string\",\n        \"num_unique_values\": 1,\n        \"samples\": [\n          \"BR(BM25)\"\n        ],\n        \"semantic_type\": \"\",\n        \"description\": \"\"\n      }\n    },\n    {\n      \"column\": \"map\",\n      \"properties\": {\n        \"dtype\": \"number\",\n        \"std\": null,\n        \"min\": 0.4127180977597508,\n        \"max\": 0.4127180977597508,\n        \"num_unique_values\": 1,\n        \"samples\": [\n          0.4127180977597508\n        ],\n        \"semantic_type\": \"\",\n        \"description\": \"\"\n      }\n    },\n    {\n      \"column\": \"recip_rank\",\n      \"properties\": {\n        \"dtype\": \"number\",\n        \"std\": null,\n        \"min\": 0.7866526943846532,\n        \"max\": 0.7866526943846532,\n        \"num_unique_values\": 1,\n        \"samples\": [\n          0.7866526943846532\n        ],\n        \"semantic_type\": \"\",\n        \"description\": \"\"\n      }\n    },\n    {\n      \"column\": \"ndcg_cut_10\",\n      \"properties\": {\n        \"dtype\": \"number\",\n        \"std\": null,\n        \"min\": 0.4894691611198549,\n        \"max\": 0.4894691611198549,\n        \"num_unique_values\": 1,\n        \"samples\": [\n          0.4894691611198549\n        ],\n        \"semantic_type\": \"\",\n        \"description\": \"\"\n      }\n    },\n    {\n      \"column\": \"P_1\",\n      \"properties\": {\n        \"dtype\": \"number\",\n        \"std\": null,\n        \"min\": 0.7010309278350515,\n        \"max\": 0.7010309278350515,\n        \"num_unique_values\": 1,\n        \"samples\": [\n          0.7010309278350515\n        ],\n        \"semantic_type\": \"\",\n        \"description\": \"\"\n      }\n    },\n    {\n      \"column\": \"P_5\",\n      \"properties\": {\n        \"dtype\": \"number\",\n        \"std\": null,\n        \"min\": 0.6226804123711341,\n        \"max\": 0.6226804123711341,\n        \"num_unique_values\": 1,\n        \"samples\": [\n          0.6226804123711341\n        ],\n        \"semantic_type\": \"\",\n        \"description\": \"\"\n      }\n    },\n    {\n      \"column\": \"P_10\",\n      \"properties\": {\n        \"dtype\": \"number\",\n        \"std\": null,\n        \"min\": 0.5742268041237113,\n        \"max\": 0.5742268041237113,\n        \"num_unique_values\": 1,\n        \"samples\": [\n          0.5742268041237113\n        ],\n        \"semantic_type\": \"\",\n        \"description\": \"\"\n      }\n    }\n  ]\n}"
            }
          },
          "metadata": {},
          "execution_count": 17
        }
      ],
      "source": [
        "from pyterrier import Experiment\n",
        "\n",
        "Experiment([bm25],\n",
        "    pt_dataset.get_topics('text'),\n",
        "    pt_dataset.get_qrels(),\n",
        "    eval_metrics = [\"map\", \"recip_rank\", \"ndcg_cut_10\", \"P_1\", \"P_5\", \"P_10\"]\n",
        ")"
      ]
    },
    {
      "cell_type": "markdown",
      "metadata": {
        "id": "AkvPthgv3NfT"
      },
      "source": [
        "# Step 7: Improve\n",
        "\n",
        "Building your own index can be already one way that you can try to improve upon this baseline (if you want to focus on creating good document representations). Other ways could include reformulating queries or tuning parameters or building better retrieval pipelines."
      ]
    },
    {
      "cell_type": "markdown",
      "metadata": {
        "id": "xbw1hf5n3NfU"
      },
      "source": [
        "# Data Cleaning and Preprocessing"
      ]
    },
    {
      "cell_type": "code",
      "execution_count": 18,
      "metadata": {
        "scrolled": true,
        "colab": {
          "base_uri": "https://localhost:8080/"
        },
        "id": "z-iLovaw3NfU",
        "outputId": "8cf82d04-f8c9-414e-93f7-a3b05367f43a"
      },
      "outputs": [
        {
          "output_type": "stream",
          "name": "stderr",
          "text": [
            "[nltk_data] Downloading package stopwords to /root/nltk_data...\n",
            "[nltk_data]   Package stopwords is already up-to-date!\n"
          ]
        }
      ],
      "source": [
        "# Import required libraries\n",
        "import nltk\n",
        "from nltk.corpus import stopwords\n",
        "import re\n",
        "\n",
        "# Download stopwords\n",
        "nltk.download('stopwords')\n",
        "stop_words = set(stopwords.words('english'))\n",
        "\n",
        "# Function to remove stopwords\n",
        "def remove_stopwords(text):\n",
        "    return ' '.join([word for word in text.split() if word.lower() not in stop_words])\n",
        "\n",
        "# Function to preprocess text (lowercase and remove punctuation)\n",
        "def preprocess_text(text):\n",
        "    text = text.lower()\n",
        "    text = re.sub(r'[^\\w\\s]', '', text)  # Remove punctuation\n",
        "    return text\n",
        "\n",
        "# Function to validate documents (filter out very short documents)\n",
        "def is_valid_document(doc):\n",
        "    return len(doc['text'].split()) > 5\n",
        "\n"
      ]
    },
    {
      "cell_type": "code",
      "execution_count": 19,
      "metadata": {
        "collapsed": true,
        "jupyter": {
          "outputs_hidden": true
        },
        "colab": {
          "base_uri": "https://localhost:8080/",
          "height": 84,
          "referenced_widgets": [
            "6bd58a00dc95477889c0e81d688e5d3a",
            "b6ce0e43ff344ed8bb0b1db27ab6709a",
            "660d9a8cce3a4b62b3d6114104dc0d69",
            "4706ce0cb259409996da6c3e1ec9843f",
            "50c2e1e3d36f4b229ca75041646bb0df",
            "7995860ca14f4941a6d7992998036568",
            "e18b776d521f48be99aa48c189ceed58",
            "04e04a4028064d8a83bf4e19434eabce",
            "ba89087eb6ab4f26862b90791c9bb092",
            "58dcdba70e7e40da90f9f1d3710dc2fd",
            "877cf5e15957483da0402e2a8fe8983b"
          ]
        },
        "id": "R8R-6x2W3NfU",
        "outputId": "7645db33-6ab7-44fe-9bf9-44ffd1fd61f6"
      },
      "outputs": [
        {
          "output_type": "display_data",
          "data": {
            "text/plain": [
              "ir-lab-wise-2024/subsampled-ms-marco-deep-learning-20241201-training documents:   0%|          | 0/68261 [00:0…"
            ],
            "application/vnd.jupyter.widget-view+json": {
              "version_major": 2,
              "version_minor": 0,
              "model_id": "6bd58a00dc95477889c0e81d688e5d3a"
            }
          },
          "metadata": {}
        },
        {
          "output_type": "stream",
          "name": "stdout",
          "text": [
            "Number of cleaned documents: 68253\n",
            "Sample document: {'text': 'voe im really sure voe know need get permit exactly get voe', 'docno': '4459825'}\n"
          ]
        }
      ],
      "source": [
        "# Generate clean_docs by applying preprocessing functions\n",
        "clean_docs = [\n",
        "    {**doc, 'text': preprocess_text(remove_stopwords(doc['text']))}\n",
        "    for doc in pt_dataset.get_corpus_iter() if is_valid_document(doc)\n",
        "]\n",
        "\n",
        "# Check the number of cleaned documents and inspect a sample\n",
        "print(\"Number of cleaned documents:\", len(clean_docs))\n",
        "print(\"Sample document:\", clean_docs[0])\n",
        "\n",
        "def is_valid_document(doc):\n",
        "    cleaned_text = preprocess_text(remove_stopwords(doc['text']))\n",
        "    return len(cleaned_text.split()) > 5  # Keep only documents with more than 5 words\n"
      ]
    },
    {
      "cell_type": "code",
      "execution_count": 20,
      "metadata": {
        "colab": {
          "base_uri": "https://localhost:8080/"
        },
        "id": "FX8KwRUq3NfU",
        "outputId": "6293b7ba-f52a-4694-98e9-10ef455547ac"
      },
      "outputs": [
        {
          "output_type": "stream",
          "name": "stdout",
          "text": [
            "16:20:07.860 [ForkJoinPool-3-worker-3] WARN org.terrier.structures.indexing.Indexer - Adding an empty document to the index (976964) - further warnings are suppressed\n",
            "16:20:24.557 [ForkJoinPool-3-worker-3] WARN org.terrier.structures.indexing.Indexer - Indexed 1 empty documents\n",
            "Index created successfully!\n",
            "Number of documents: 68253\n",
            "Number of terms: 95646\n",
            "Number of postings: 1565316\n",
            "Number of fields: 1\n",
            "Number of tokens: 2196421\n",
            "Field names: [text]\n",
            "Positions:   false\n",
            "\n",
            "IndexRef type: <class 'jnius.reflect.org.terrier.querying.IndexRef'>\n"
          ]
        }
      ],
      "source": [
        "import os\n",
        "import pyterrier as pt\n",
        "\n",
        "# Initialize PyTerrier\n",
        "if not pt.started():\n",
        "    pt.init()\n",
        "\n",
        "# Define the index path\n",
        "index_path = \"/content/wir-2024-relevancers/data/clean_index\"\n",
        "\n",
        "# Create the directory if it doesn't exist\n",
        "os.makedirs(index_path, exist_ok=True)\n",
        "\n",
        "# Example function: Validate documents for indexing\n",
        "def is_valid_document(doc):\n",
        "    # Ensure the document is not empty after cleaning\n",
        "    cleaned_text = preprocess_text(remove_stopwords(doc['text']))\n",
        "    return len(cleaned_text.split()) > 5  # Keep only documents with more than 5 words\n",
        "\n",
        "# Create the index using IterDictIndexer\n",
        "indexer = pt.IterDictIndexer(index_path, meta={'docno': 50, 'text': 4096}, overwrite=True)\n",
        "\n",
        "# Replace `clean_docs` with your iterable of documents\n",
        "# Ensure `clean_docs` is an iterable of dictionaries with at least `docno` and `text` keys\n",
        "index = indexer.index(iter(clean_docs))\n",
        "\n",
        "# Print success message\n",
        "print(\"Index created successfully!\")\n",
        "\n",
        "# Load the created index\n",
        "index_object = pt.IndexFactory.of(index_path)\n",
        "\n",
        "# Validate the index by printing collection statistics\n",
        "print(index_object.getCollectionStatistics().toString())\n",
        "\n",
        "# Convert the index path to an IndexRef\n",
        "index_ref = pt.IndexRef.of(index_path)\n",
        "\n",
        "# Print to confirm the type of index_ref\n",
        "print(\"IndexRef type:\", type(index_ref))  # Should print <class 'pyterrier.querying.IndexRef'>\n"
      ]
    },
    {
      "cell_type": "markdown",
      "metadata": {
        "id": "EXAMJvVk3NfU"
      },
      "source": [
        "#  Basic BM25\n"
      ]
    },
    {
      "cell_type": "code",
      "execution_count": 22,
      "metadata": {
        "colab": {
          "base_uri": "https://localhost:8080/"
        },
        "id": "-SlJWdgI3NfU",
        "outputId": "14b47752-7dd9-4ac1-b3d2-52d794001c82"
      },
      "outputs": [
        {
          "output_type": "stream",
          "name": "stdout",
          "text": [
            "BM25 Results:\n",
            "       qid  docid    docno  rank      score               query\n",
            "0  1030303  53844  8726436     0  32.018835  who is aziz hashim\n",
            "1  1030303  56033  8726433     1  25.228221  who is aziz hashim\n",
            "2  1030303  62108  8726435     2  23.653081  who is aziz hashim\n",
            "3  1030303  32178  8726429     3  23.410157  who is aziz hashim\n",
            "4  1030303  35862  8726437     4  21.360466  who is aziz hashim\n",
            "5  1030303  17634  8726430     5  20.500117  who is aziz hashim\n",
            "6  1030303  42951  7156982     6  20.500117  who is aziz hashim\n",
            "7  1030303  21800  8726434     7  19.706391  who is aziz hashim\n",
            "8  1030303  21333  1305528     8  18.732769  who is aziz hashim\n",
            "9  1030303  59820  1305520     9  17.766626  who is aziz hashim\n"
          ]
        }
      ],
      "source": [
        "# Load the index\n",
        "index = pt.IndexFactory.of(index_path)\n",
        "\n",
        "# Define BM25 retrieval pipeline using the new Retriever API\n",
        "bm25 = pt.BatchRetrieve(index, wmodel=\"BM25\")\n",
        "\n",
        "# Load topics (queries) from the dataset\n",
        "topics = pt_dataset.get_topics('text')\n",
        "\n",
        "# Retrieve results for the topics\n",
        "bm25_results = bm25.transform(topics)\n",
        "\n",
        "# Display the top 10 results\n",
        "print(\"BM25 Results:\")\n",
        "print(bm25_results.head(10))\n"
      ]
    },
    {
      "cell_type": "markdown",
      "metadata": {
        "id": "iqz8tUB43NfV"
      },
      "source": [
        "# Retrieval with RM3 Query Expansion"
      ]
    },
    {
      "cell_type": "code",
      "execution_count": 24,
      "metadata": {
        "colab": {
          "base_uri": "https://localhost:8080/"
        },
        "id": "reG8ym-23NfV",
        "outputId": "5892a9a1-23ac-4386-a380-63fc8148f96f"
      },
      "outputs": [
        {
          "output_type": "stream",
          "name": "stdout",
          "text": [
            "BM25+RM3 Results:\n",
            "       qid  docid    docno  rank      score             query_0  \\\n",
            "0  1030303  53844  8726436     0  38.501560  who is aziz hashim   \n",
            "1  1030303  62108  8726435     1  30.684877  who is aziz hashim   \n",
            "2  1030303  56033  8726433     2  27.497540  who is aziz hashim   \n",
            "3  1030303  35862  8726437     3  26.724978  who is aziz hashim   \n",
            "4  1030303  32178  8726429     4  24.604161  who is aziz hashim   \n",
            "\n",
            "                                               query  \n",
            "0  applypipeline:off partner^0.028783683 capit^0....  \n",
            "1  applypipeline:off partner^0.028783683 capit^0....  \n",
            "2  applypipeline:off partner^0.028783683 capit^0....  \n",
            "3  applypipeline:off partner^0.028783683 capit^0....  \n",
            "4  applypipeline:off partner^0.028783683 capit^0....  \n",
            "Columns in RM3 Results: Index(['qid', 'docid', 'docno', 'rank', 'score', 'query_0', 'query'], dtype='object')\n"
          ]
        }
      ],
      "source": [
        "# Step 1: Define BM25 Retrieval Pipeline\n",
        "bm25 = pt.BatchRetrieve(index_ref, wmodel=\"BM25\")\n",
        "\n",
        "# Step 2: Chain RM3 with BM25\n",
        "bm25_rm3 = bm25 >> pt.rewrite.RM3(index_ref) >> bm25\n",
        "\n",
        "# Step 3: Test RM3 Pipeline\n",
        "topics = pt_dataset.get_topics('text')  # Load topics\n",
        "rm3_results = bm25_rm3.transform(topics)\n",
        "\n",
        "print(\"BM25+RM3 Results:\")\n",
        "print(rm3_results.head())\n",
        "print(\"Columns in RM3 Results:\", rm3_results.columns)"
      ]
    },
    {
      "cell_type": "code",
      "execution_count": 25,
      "metadata": {
        "scrolled": true,
        "colab": {
          "base_uri": "https://localhost:8080/"
        },
        "id": "GTrvcqMT3NfV",
        "outputId": "972e1842-9eaf-4424-89c2-7a3995b9dfcb"
      },
      "outputs": [
        {
          "output_type": "stream",
          "name": "stdout",
          "text": [
            "Evaluation Results:\n",
            "       name       map  recip_rank  ndcg_cut_10       P_1       P_5      P_10\n",
            "0      BM25  0.406065    0.789421     0.489185  0.690722  0.616495  0.569072\n",
            "1  BM25+RM3  0.447490    0.785040     0.516655  0.701031  0.651546  0.610309\n"
          ]
        }
      ],
      "source": [
        "# Step 4: Run Experiment\n",
        "from pyterrier import Experiment\n",
        "\n",
        "results = Experiment(\n",
        "    [bm25, bm25_rm3],  # Compare BM25 and BM25+RM3 pipelines\n",
        "    topics,\n",
        "    pt_dataset.get_qrels(),\n",
        "    eval_metrics=[\"map\", \"recip_rank\", \"ndcg_cut_10\", \"P_1\", \"P_5\", \"P_10\"],\n",
        "    names=[\"BM25\", \"BM25+RM3\"]\n",
        ")\n",
        "\n",
        "print(\"Evaluation Results:\")\n",
        "print(results)\n"
      ]
    },
    {
      "cell_type": "markdown",
      "source": [
        "# **Evaluation Analysis: BM25 vs. BM25+RM3**\n",
        "\n",
        "### **Evaluation Results**\n",
        "| Metric         | BM25     | BM25+RM3  | Improvement (%) |\n",
        "|----------------|----------|-----------|-----------------|\n",
        "| MAP            | 0.406065 | 0.447490  | **+10.2%**      |\n",
        "| Recip Rank     | 0.789421 | 0.785040  | **-0.6%**       |\n",
        "| NDCG@10        | 0.489185 | 0.516655  | **+5.6%**       |\n",
        "| P@1            | 0.690722 | 0.701031  | **+1.5%**       |\n",
        "| P@5            | 0.616495 | 0.651546  | **+5.7%**       |\n",
        "| P@10           | 0.569072 | 0.610309  | **+7.2%**       |\n",
        "\n",
        "- **MAP** improved by **10.2%**, indicating overall better relevance with RM3.\n",
        "- **NDCG@10** improved by **5.6%**, highlighting better-ranked top-10 results.\n",
        "- **P@1**, **P@5**, and **P@10** showed consistent improvements, indicating better precision for the top retrieved results.\n",
        "- **Recip Rank** decreased slightly by **0.6%**, indicating RM3 occasionally took slightly longer to retrieve the first relevant document.\n"
      ],
      "metadata": {
        "id": "esT_2DhSDlAf"
      }
    },
    {
      "cell_type": "code",
      "execution_count": 26,
      "metadata": {
        "colab": {
          "base_uri": "https://localhost:8080/"
        },
        "id": "DkhAOjUH3NfV",
        "outputId": "90422046-3ab2-4ab5-9efb-7b320a4cbcf7"
      },
      "outputs": [
        {
          "output_type": "stream",
          "name": "stdout",
          "text": [
            "Tuned Evaluation Results:\n",
            "             name       map  recip_rank  ndcg_cut_10       P_1       P_5  \\\n",
            "0            BM25  0.406065    0.789421     0.489185  0.690722  0.616495   \n",
            "1  BM25+RM3 Tuned  0.436078    0.784178     0.510363  0.711340  0.618557   \n",
            "\n",
            "       P_10  \n",
            "0  0.569072  \n",
            "1  0.594845  \n"
          ]
        }
      ],
      "source": [
        "# Step 5: Tune RM3 Parameters\n",
        "bm25_rm3_tuned = bm25 >> pt.rewrite.RM3(index_ref, fb_terms=15, fb_docs=5, fb_lambda=0.7) >> bm25\n",
        "\n",
        "results_tuned = Experiment(\n",
        "    [bm25, bm25_rm3_tuned],\n",
        "    topics,\n",
        "    pt_dataset.get_qrels(),\n",
        "    eval_metrics=[\"map\", \"recip_rank\", \"ndcg_cut_10\", \"P_1\", \"P_5\", \"P_10\"],\n",
        "    names=[\"BM25\", \"BM25+RM3 Tuned\"]\n",
        ")\n",
        "\n",
        "print(\"Tuned Evaluation Results:\")\n",
        "print(results_tuned)\n"
      ]
    },
    {
      "cell_type": "markdown",
      "metadata": {
        "id": "AYatyHgS3NfV"
      },
      "source": [
        "# **Tuned Evaluation Results**\n",
        "\n",
        "| Metric         | BM25     | BM25+RM3 Tuned | Change vs. Default RM3 |\n",
        "|----------------|----------|----------------|-------------------------|\n",
        "| MAP            | 0.406065 | 0.436078       | **-2.6%**              |\n",
        "| Recip Rank     | 0.789421 | 0.784178       | **-0.1%**              |\n",
        "| NDCG@10        | 0.489185 | 0.510363       | **-1.2%**              |\n",
        "| P@1            | 0.690722 | 0.711340       | **+1.5%**              |\n",
        "| P@5            | 0.616495 | 0.618557       | **-5.1%**              |\n",
        "| P@10           | 0.569072 | 0.594845       | **+3.8%**              |\n",
        "\n",
        "- **P@1** improved by **1.5%**, showing better relevance for the first result.\n",
        "- **P@10** improved by **3.8%**, indicating slightly better precision at the top 10 results.\n",
        "- **MAP**, **Recip Rank**, and **NDCG@10** showed slight decreases compared to the default RM3, indicating tuning introduced small trade-offs."
      ]
    },
    {
      "cell_type": "markdown",
      "metadata": {
        "id": "ALOhBSbg3NfW"
      },
      "source": [
        "### **The conclusion from the Analysis:**\n",
        "\n",
        "- **BM25+RM3** performed better than BM25 overall, with improvements in MAP (+10.2%), NDCG@10 (+5.6%), and precision at P@10 (+7.2%). This indicates better ranking and retrieval of relevant documents, especially in the top 10 results.\n",
        "- Precision at P@5 (+5.7%) and P@1 (+1.5%) also showed improvements, meaning more relevant documents were retrieved in the top results.\n",
        "- However, **Recip Rank** slightly decreased (-0.6%), suggesting RM3 occasionally delayed retrieving the first relevant document.\n",
        "\n",
        "- For the **tuned BM25+RM3**, P@1 (+1.5%) and P@10 (+3.8%) showed slight improvements, meaning the first result and top 10 results were more relevant. However, MAP (-2.6%), Recip Rank (-0.1%), and NDCG@10 (-1.2%) experienced slight decreases, indicating that the tuning introduced minor trade-offs in overall relevance and ranking consistency."
      ]
    },
    {
      "cell_type": "markdown",
      "metadata": {
        "id": "qPV0eytk3NfW"
      },
      "source": [
        "# Re-ranking with MonoT5"
      ]
    },
    {
      "cell_type": "code",
      "source": [],
      "metadata": {
        "id": "Se2aelr5_n27"
      },
      "execution_count": null,
      "outputs": []
    }
  ],
  "metadata": {
    "kernelspec": {
      "display_name": "Python 3 (ipykernel)",
      "language": "python",
      "name": "python3"
    },
    "language_info": {
      "codemirror_mode": {
        "name": "ipython",
        "version": 3
      },
      "file_extension": ".py",
      "mimetype": "text/x-python",
      "name": "python",
      "nbconvert_exporter": "python",
      "pygments_lexer": "ipython3",
      "version": "3.10.11"
    },
    "colab": {
      "provenance": []
    },
    "widgets": {
      "application/vnd.jupyter.widget-state+json": {
        "2bbc0130a92f4c3f8efac6651778d6ce": {
          "model_module": "@jupyter-widgets/controls",
          "model_name": "HBoxModel",
          "model_module_version": "1.5.0",
          "state": {
            "_dom_classes": [],
            "_model_module": "@jupyter-widgets/controls",
            "_model_module_version": "1.5.0",
            "_model_name": "HBoxModel",
            "_view_count": null,
            "_view_module": "@jupyter-widgets/controls",
            "_view_module_version": "1.5.0",
            "_view_name": "HBoxView",
            "box_style": "",
            "children": [
              "IPY_MODEL_c0e4bd14ac794d479bb5992766256406",
              "IPY_MODEL_4b553e2b37bd4ab7b9c7a8a31e509673",
              "IPY_MODEL_fdb52fa4e0cd42db987c272213ec0e56"
            ],
            "layout": "IPY_MODEL_d3cfeae8734241a8b47458a7d74b31a4"
          }
        },
        "c0e4bd14ac794d479bb5992766256406": {
          "model_module": "@jupyter-widgets/controls",
          "model_name": "HTMLModel",
          "model_module_version": "1.5.0",
          "state": {
            "_dom_classes": [],
            "_model_module": "@jupyter-widgets/controls",
            "_model_module_version": "1.5.0",
            "_model_name": "HTMLModel",
            "_view_count": null,
            "_view_module": "@jupyter-widgets/controls",
            "_view_module_version": "1.5.0",
            "_view_name": "HTMLView",
            "description": "",
            "description_tooltip": null,
            "layout": "IPY_MODEL_c2823ad82a694f8cbf60d3e11fdee1e3",
            "placeholder": "​",
            "style": "IPY_MODEL_0806d9831f3c4f3598000ed4001829a8",
            "value": "ir-lab-wise-2024/subsampled-ms-marco-deep-learning-20241201-training documents: 100%"
          }
        },
        "4b553e2b37bd4ab7b9c7a8a31e509673": {
          "model_module": "@jupyter-widgets/controls",
          "model_name": "FloatProgressModel",
          "model_module_version": "1.5.0",
          "state": {
            "_dom_classes": [],
            "_model_module": "@jupyter-widgets/controls",
            "_model_module_version": "1.5.0",
            "_model_name": "FloatProgressModel",
            "_view_count": null,
            "_view_module": "@jupyter-widgets/controls",
            "_view_module_version": "1.5.0",
            "_view_name": "ProgressView",
            "bar_style": "success",
            "description": "",
            "description_tooltip": null,
            "layout": "IPY_MODEL_29d96bd3075a4b91b6e782d1654fc233",
            "max": 68261,
            "min": 0,
            "orientation": "horizontal",
            "style": "IPY_MODEL_4fe859b7aed7422ea95cf034946eb765",
            "value": 68261
          }
        },
        "fdb52fa4e0cd42db987c272213ec0e56": {
          "model_module": "@jupyter-widgets/controls",
          "model_name": "HTMLModel",
          "model_module_version": "1.5.0",
          "state": {
            "_dom_classes": [],
            "_model_module": "@jupyter-widgets/controls",
            "_model_module_version": "1.5.0",
            "_model_name": "HTMLModel",
            "_view_count": null,
            "_view_module": "@jupyter-widgets/controls",
            "_view_module_version": "1.5.0",
            "_view_name": "HTMLView",
            "description": "",
            "description_tooltip": null,
            "layout": "IPY_MODEL_747d3ac110184aec8887dcb448361260",
            "placeholder": "​",
            "style": "IPY_MODEL_f2f1af78efb345248f6efa38ca2ef2de",
            "value": " 68261/68261 [00:17&lt;00:00, 5278.18it/s]"
          }
        },
        "d3cfeae8734241a8b47458a7d74b31a4": {
          "model_module": "@jupyter-widgets/base",
          "model_name": "LayoutModel",
          "model_module_version": "1.2.0",
          "state": {
            "_model_module": "@jupyter-widgets/base",
            "_model_module_version": "1.2.0",
            "_model_name": "LayoutModel",
            "_view_count": null,
            "_view_module": "@jupyter-widgets/base",
            "_view_module_version": "1.2.0",
            "_view_name": "LayoutView",
            "align_content": null,
            "align_items": null,
            "align_self": null,
            "border": null,
            "bottom": null,
            "display": null,
            "flex": null,
            "flex_flow": null,
            "grid_area": null,
            "grid_auto_columns": null,
            "grid_auto_flow": null,
            "grid_auto_rows": null,
            "grid_column": null,
            "grid_gap": null,
            "grid_row": null,
            "grid_template_areas": null,
            "grid_template_columns": null,
            "grid_template_rows": null,
            "height": null,
            "justify_content": null,
            "justify_items": null,
            "left": null,
            "margin": null,
            "max_height": null,
            "max_width": null,
            "min_height": null,
            "min_width": null,
            "object_fit": null,
            "object_position": null,
            "order": null,
            "overflow": null,
            "overflow_x": null,
            "overflow_y": null,
            "padding": null,
            "right": null,
            "top": null,
            "visibility": null,
            "width": null
          }
        },
        "c2823ad82a694f8cbf60d3e11fdee1e3": {
          "model_module": "@jupyter-widgets/base",
          "model_name": "LayoutModel",
          "model_module_version": "1.2.0",
          "state": {
            "_model_module": "@jupyter-widgets/base",
            "_model_module_version": "1.2.0",
            "_model_name": "LayoutModel",
            "_view_count": null,
            "_view_module": "@jupyter-widgets/base",
            "_view_module_version": "1.2.0",
            "_view_name": "LayoutView",
            "align_content": null,
            "align_items": null,
            "align_self": null,
            "border": null,
            "bottom": null,
            "display": null,
            "flex": null,
            "flex_flow": null,
            "grid_area": null,
            "grid_auto_columns": null,
            "grid_auto_flow": null,
            "grid_auto_rows": null,
            "grid_column": null,
            "grid_gap": null,
            "grid_row": null,
            "grid_template_areas": null,
            "grid_template_columns": null,
            "grid_template_rows": null,
            "height": null,
            "justify_content": null,
            "justify_items": null,
            "left": null,
            "margin": null,
            "max_height": null,
            "max_width": null,
            "min_height": null,
            "min_width": null,
            "object_fit": null,
            "object_position": null,
            "order": null,
            "overflow": null,
            "overflow_x": null,
            "overflow_y": null,
            "padding": null,
            "right": null,
            "top": null,
            "visibility": null,
            "width": null
          }
        },
        "0806d9831f3c4f3598000ed4001829a8": {
          "model_module": "@jupyter-widgets/controls",
          "model_name": "DescriptionStyleModel",
          "model_module_version": "1.5.0",
          "state": {
            "_model_module": "@jupyter-widgets/controls",
            "_model_module_version": "1.5.0",
            "_model_name": "DescriptionStyleModel",
            "_view_count": null,
            "_view_module": "@jupyter-widgets/base",
            "_view_module_version": "1.2.0",
            "_view_name": "StyleView",
            "description_width": ""
          }
        },
        "29d96bd3075a4b91b6e782d1654fc233": {
          "model_module": "@jupyter-widgets/base",
          "model_name": "LayoutModel",
          "model_module_version": "1.2.0",
          "state": {
            "_model_module": "@jupyter-widgets/base",
            "_model_module_version": "1.2.0",
            "_model_name": "LayoutModel",
            "_view_count": null,
            "_view_module": "@jupyter-widgets/base",
            "_view_module_version": "1.2.0",
            "_view_name": "LayoutView",
            "align_content": null,
            "align_items": null,
            "align_self": null,
            "border": null,
            "bottom": null,
            "display": null,
            "flex": null,
            "flex_flow": null,
            "grid_area": null,
            "grid_auto_columns": null,
            "grid_auto_flow": null,
            "grid_auto_rows": null,
            "grid_column": null,
            "grid_gap": null,
            "grid_row": null,
            "grid_template_areas": null,
            "grid_template_columns": null,
            "grid_template_rows": null,
            "height": null,
            "justify_content": null,
            "justify_items": null,
            "left": null,
            "margin": null,
            "max_height": null,
            "max_width": null,
            "min_height": null,
            "min_width": null,
            "object_fit": null,
            "object_position": null,
            "order": null,
            "overflow": null,
            "overflow_x": null,
            "overflow_y": null,
            "padding": null,
            "right": null,
            "top": null,
            "visibility": null,
            "width": null
          }
        },
        "4fe859b7aed7422ea95cf034946eb765": {
          "model_module": "@jupyter-widgets/controls",
          "model_name": "ProgressStyleModel",
          "model_module_version": "1.5.0",
          "state": {
            "_model_module": "@jupyter-widgets/controls",
            "_model_module_version": "1.5.0",
            "_model_name": "ProgressStyleModel",
            "_view_count": null,
            "_view_module": "@jupyter-widgets/base",
            "_view_module_version": "1.2.0",
            "_view_name": "StyleView",
            "bar_color": null,
            "description_width": ""
          }
        },
        "747d3ac110184aec8887dcb448361260": {
          "model_module": "@jupyter-widgets/base",
          "model_name": "LayoutModel",
          "model_module_version": "1.2.0",
          "state": {
            "_model_module": "@jupyter-widgets/base",
            "_model_module_version": "1.2.0",
            "_model_name": "LayoutModel",
            "_view_count": null,
            "_view_module": "@jupyter-widgets/base",
            "_view_module_version": "1.2.0",
            "_view_name": "LayoutView",
            "align_content": null,
            "align_items": null,
            "align_self": null,
            "border": null,
            "bottom": null,
            "display": null,
            "flex": null,
            "flex_flow": null,
            "grid_area": null,
            "grid_auto_columns": null,
            "grid_auto_flow": null,
            "grid_auto_rows": null,
            "grid_column": null,
            "grid_gap": null,
            "grid_row": null,
            "grid_template_areas": null,
            "grid_template_columns": null,
            "grid_template_rows": null,
            "height": null,
            "justify_content": null,
            "justify_items": null,
            "left": null,
            "margin": null,
            "max_height": null,
            "max_width": null,
            "min_height": null,
            "min_width": null,
            "object_fit": null,
            "object_position": null,
            "order": null,
            "overflow": null,
            "overflow_x": null,
            "overflow_y": null,
            "padding": null,
            "right": null,
            "top": null,
            "visibility": null,
            "width": null
          }
        },
        "f2f1af78efb345248f6efa38ca2ef2de": {
          "model_module": "@jupyter-widgets/controls",
          "model_name": "DescriptionStyleModel",
          "model_module_version": "1.5.0",
          "state": {
            "_model_module": "@jupyter-widgets/controls",
            "_model_module_version": "1.5.0",
            "_model_name": "DescriptionStyleModel",
            "_view_count": null,
            "_view_module": "@jupyter-widgets/base",
            "_view_module_version": "1.2.0",
            "_view_name": "StyleView",
            "description_width": ""
          }
        },
        "6bd58a00dc95477889c0e81d688e5d3a": {
          "model_module": "@jupyter-widgets/controls",
          "model_name": "HBoxModel",
          "model_module_version": "1.5.0",
          "state": {
            "_dom_classes": [],
            "_model_module": "@jupyter-widgets/controls",
            "_model_module_version": "1.5.0",
            "_model_name": "HBoxModel",
            "_view_count": null,
            "_view_module": "@jupyter-widgets/controls",
            "_view_module_version": "1.5.0",
            "_view_name": "HBoxView",
            "box_style": "",
            "children": [
              "IPY_MODEL_b6ce0e43ff344ed8bb0b1db27ab6709a",
              "IPY_MODEL_660d9a8cce3a4b62b3d6114104dc0d69",
              "IPY_MODEL_4706ce0cb259409996da6c3e1ec9843f"
            ],
            "layout": "IPY_MODEL_50c2e1e3d36f4b229ca75041646bb0df"
          }
        },
        "b6ce0e43ff344ed8bb0b1db27ab6709a": {
          "model_module": "@jupyter-widgets/controls",
          "model_name": "HTMLModel",
          "model_module_version": "1.5.0",
          "state": {
            "_dom_classes": [],
            "_model_module": "@jupyter-widgets/controls",
            "_model_module_version": "1.5.0",
            "_model_name": "HTMLModel",
            "_view_count": null,
            "_view_module": "@jupyter-widgets/controls",
            "_view_module_version": "1.5.0",
            "_view_name": "HTMLView",
            "description": "",
            "description_tooltip": null,
            "layout": "IPY_MODEL_7995860ca14f4941a6d7992998036568",
            "placeholder": "​",
            "style": "IPY_MODEL_e18b776d521f48be99aa48c189ceed58",
            "value": "ir-lab-wise-2024/subsampled-ms-marco-deep-learning-20241201-training documents: 100%"
          }
        },
        "660d9a8cce3a4b62b3d6114104dc0d69": {
          "model_module": "@jupyter-widgets/controls",
          "model_name": "FloatProgressModel",
          "model_module_version": "1.5.0",
          "state": {
            "_dom_classes": [],
            "_model_module": "@jupyter-widgets/controls",
            "_model_module_version": "1.5.0",
            "_model_name": "FloatProgressModel",
            "_view_count": null,
            "_view_module": "@jupyter-widgets/controls",
            "_view_module_version": "1.5.0",
            "_view_name": "ProgressView",
            "bar_style": "success",
            "description": "",
            "description_tooltip": null,
            "layout": "IPY_MODEL_04e04a4028064d8a83bf4e19434eabce",
            "max": 68261,
            "min": 0,
            "orientation": "horizontal",
            "style": "IPY_MODEL_ba89087eb6ab4f26862b90791c9bb092",
            "value": 68261
          }
        },
        "4706ce0cb259409996da6c3e1ec9843f": {
          "model_module": "@jupyter-widgets/controls",
          "model_name": "HTMLModel",
          "model_module_version": "1.5.0",
          "state": {
            "_dom_classes": [],
            "_model_module": "@jupyter-widgets/controls",
            "_model_module_version": "1.5.0",
            "_model_name": "HTMLModel",
            "_view_count": null,
            "_view_module": "@jupyter-widgets/controls",
            "_view_module_version": "1.5.0",
            "_view_name": "HTMLView",
            "description": "",
            "description_tooltip": null,
            "layout": "IPY_MODEL_58dcdba70e7e40da90f9f1d3710dc2fd",
            "placeholder": "​",
            "style": "IPY_MODEL_877cf5e15957483da0402e2a8fe8983b",
            "value": " 68261/68261 [00:03&lt;00:00, 20178.60it/s]"
          }
        },
        "50c2e1e3d36f4b229ca75041646bb0df": {
          "model_module": "@jupyter-widgets/base",
          "model_name": "LayoutModel",
          "model_module_version": "1.2.0",
          "state": {
            "_model_module": "@jupyter-widgets/base",
            "_model_module_version": "1.2.0",
            "_model_name": "LayoutModel",
            "_view_count": null,
            "_view_module": "@jupyter-widgets/base",
            "_view_module_version": "1.2.0",
            "_view_name": "LayoutView",
            "align_content": null,
            "align_items": null,
            "align_self": null,
            "border": null,
            "bottom": null,
            "display": null,
            "flex": null,
            "flex_flow": null,
            "grid_area": null,
            "grid_auto_columns": null,
            "grid_auto_flow": null,
            "grid_auto_rows": null,
            "grid_column": null,
            "grid_gap": null,
            "grid_row": null,
            "grid_template_areas": null,
            "grid_template_columns": null,
            "grid_template_rows": null,
            "height": null,
            "justify_content": null,
            "justify_items": null,
            "left": null,
            "margin": null,
            "max_height": null,
            "max_width": null,
            "min_height": null,
            "min_width": null,
            "object_fit": null,
            "object_position": null,
            "order": null,
            "overflow": null,
            "overflow_x": null,
            "overflow_y": null,
            "padding": null,
            "right": null,
            "top": null,
            "visibility": null,
            "width": null
          }
        },
        "7995860ca14f4941a6d7992998036568": {
          "model_module": "@jupyter-widgets/base",
          "model_name": "LayoutModel",
          "model_module_version": "1.2.0",
          "state": {
            "_model_module": "@jupyter-widgets/base",
            "_model_module_version": "1.2.0",
            "_model_name": "LayoutModel",
            "_view_count": null,
            "_view_module": "@jupyter-widgets/base",
            "_view_module_version": "1.2.0",
            "_view_name": "LayoutView",
            "align_content": null,
            "align_items": null,
            "align_self": null,
            "border": null,
            "bottom": null,
            "display": null,
            "flex": null,
            "flex_flow": null,
            "grid_area": null,
            "grid_auto_columns": null,
            "grid_auto_flow": null,
            "grid_auto_rows": null,
            "grid_column": null,
            "grid_gap": null,
            "grid_row": null,
            "grid_template_areas": null,
            "grid_template_columns": null,
            "grid_template_rows": null,
            "height": null,
            "justify_content": null,
            "justify_items": null,
            "left": null,
            "margin": null,
            "max_height": null,
            "max_width": null,
            "min_height": null,
            "min_width": null,
            "object_fit": null,
            "object_position": null,
            "order": null,
            "overflow": null,
            "overflow_x": null,
            "overflow_y": null,
            "padding": null,
            "right": null,
            "top": null,
            "visibility": null,
            "width": null
          }
        },
        "e18b776d521f48be99aa48c189ceed58": {
          "model_module": "@jupyter-widgets/controls",
          "model_name": "DescriptionStyleModel",
          "model_module_version": "1.5.0",
          "state": {
            "_model_module": "@jupyter-widgets/controls",
            "_model_module_version": "1.5.0",
            "_model_name": "DescriptionStyleModel",
            "_view_count": null,
            "_view_module": "@jupyter-widgets/base",
            "_view_module_version": "1.2.0",
            "_view_name": "StyleView",
            "description_width": ""
          }
        },
        "04e04a4028064d8a83bf4e19434eabce": {
          "model_module": "@jupyter-widgets/base",
          "model_name": "LayoutModel",
          "model_module_version": "1.2.0",
          "state": {
            "_model_module": "@jupyter-widgets/base",
            "_model_module_version": "1.2.0",
            "_model_name": "LayoutModel",
            "_view_count": null,
            "_view_module": "@jupyter-widgets/base",
            "_view_module_version": "1.2.0",
            "_view_name": "LayoutView",
            "align_content": null,
            "align_items": null,
            "align_self": null,
            "border": null,
            "bottom": null,
            "display": null,
            "flex": null,
            "flex_flow": null,
            "grid_area": null,
            "grid_auto_columns": null,
            "grid_auto_flow": null,
            "grid_auto_rows": null,
            "grid_column": null,
            "grid_gap": null,
            "grid_row": null,
            "grid_template_areas": null,
            "grid_template_columns": null,
            "grid_template_rows": null,
            "height": null,
            "justify_content": null,
            "justify_items": null,
            "left": null,
            "margin": null,
            "max_height": null,
            "max_width": null,
            "min_height": null,
            "min_width": null,
            "object_fit": null,
            "object_position": null,
            "order": null,
            "overflow": null,
            "overflow_x": null,
            "overflow_y": null,
            "padding": null,
            "right": null,
            "top": null,
            "visibility": null,
            "width": null
          }
        },
        "ba89087eb6ab4f26862b90791c9bb092": {
          "model_module": "@jupyter-widgets/controls",
          "model_name": "ProgressStyleModel",
          "model_module_version": "1.5.0",
          "state": {
            "_model_module": "@jupyter-widgets/controls",
            "_model_module_version": "1.5.0",
            "_model_name": "ProgressStyleModel",
            "_view_count": null,
            "_view_module": "@jupyter-widgets/base",
            "_view_module_version": "1.2.0",
            "_view_name": "StyleView",
            "bar_color": null,
            "description_width": ""
          }
        },
        "58dcdba70e7e40da90f9f1d3710dc2fd": {
          "model_module": "@jupyter-widgets/base",
          "model_name": "LayoutModel",
          "model_module_version": "1.2.0",
          "state": {
            "_model_module": "@jupyter-widgets/base",
            "_model_module_version": "1.2.0",
            "_model_name": "LayoutModel",
            "_view_count": null,
            "_view_module": "@jupyter-widgets/base",
            "_view_module_version": "1.2.0",
            "_view_name": "LayoutView",
            "align_content": null,
            "align_items": null,
            "align_self": null,
            "border": null,
            "bottom": null,
            "display": null,
            "flex": null,
            "flex_flow": null,
            "grid_area": null,
            "grid_auto_columns": null,
            "grid_auto_flow": null,
            "grid_auto_rows": null,
            "grid_column": null,
            "grid_gap": null,
            "grid_row": null,
            "grid_template_areas": null,
            "grid_template_columns": null,
            "grid_template_rows": null,
            "height": null,
            "justify_content": null,
            "justify_items": null,
            "left": null,
            "margin": null,
            "max_height": null,
            "max_width": null,
            "min_height": null,
            "min_width": null,
            "object_fit": null,
            "object_position": null,
            "order": null,
            "overflow": null,
            "overflow_x": null,
            "overflow_y": null,
            "padding": null,
            "right": null,
            "top": null,
            "visibility": null,
            "width": null
          }
        },
        "877cf5e15957483da0402e2a8fe8983b": {
          "model_module": "@jupyter-widgets/controls",
          "model_name": "DescriptionStyleModel",
          "model_module_version": "1.5.0",
          "state": {
            "_model_module": "@jupyter-widgets/controls",
            "_model_module_version": "1.5.0",
            "_model_name": "DescriptionStyleModel",
            "_view_count": null,
            "_view_module": "@jupyter-widgets/base",
            "_view_module_version": "1.2.0",
            "_view_name": "StyleView",
            "description_width": ""
          }
        }
      }
    }
  },
  "nbformat": 4,
  "nbformat_minor": 0
}