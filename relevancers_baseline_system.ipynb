{
  "nbformat": 4,
  "nbformat_minor": 0,
  "metadata": {
    "colab": {
      "provenance": [],
      "authorship_tag": "ABX9TyPPbNV2RXYukAR7ai6oiEIL",
      "include_colab_link": true
    },
    "kernelspec": {
      "name": "python3",
      "display_name": "Python 3"
    },
    "language_info": {
      "name": "python"
    },
    "widgets": {
      "application/vnd.jupyter.widget-state+json": {
        "2311cf3528b7441fa6e01254e050fbb5": {
          "model_module": "@jupyter-widgets/controls",
          "model_name": "HBoxModel",
          "model_module_version": "1.5.0",
          "state": {
            "_dom_classes": [],
            "_model_module": "@jupyter-widgets/controls",
            "_model_module_version": "1.5.0",
            "_model_name": "HBoxModel",
            "_view_count": null,
            "_view_module": "@jupyter-widgets/controls",
            "_view_module_version": "1.5.0",
            "_view_name": "HBoxView",
            "box_style": "",
            "children": [
              "IPY_MODEL_e09fd05a27664d39ad67072a85f72ed4",
              "IPY_MODEL_4fe444998c574ac3b868919a11eb6e57",
              "IPY_MODEL_cd8b8ba831b64620983da9298692741e"
            ],
            "layout": "IPY_MODEL_9fc80ea5951a4701abcec46089054e2c"
          }
        },
        "e09fd05a27664d39ad67072a85f72ed4": {
          "model_module": "@jupyter-widgets/controls",
          "model_name": "HTMLModel",
          "model_module_version": "1.5.0",
          "state": {
            "_dom_classes": [],
            "_model_module": "@jupyter-widgets/controls",
            "_model_module_version": "1.5.0",
            "_model_name": "HTMLModel",
            "_view_count": null,
            "_view_module": "@jupyter-widgets/controls",
            "_view_module_version": "1.5.0",
            "_view_name": "HTMLView",
            "description": "",
            "description_tooltip": null,
            "layout": "IPY_MODEL_959afe1d3f5d408185b74076c5be1f49",
            "placeholder": "​",
            "style": "IPY_MODEL_d2228838fcd942c88d3333771961b088",
            "value": "ir-lab-wise-2024/subsampled-ms-marco-deep-learning-20241201-training documents: 100%"
          }
        },
        "4fe444998c574ac3b868919a11eb6e57": {
          "model_module": "@jupyter-widgets/controls",
          "model_name": "FloatProgressModel",
          "model_module_version": "1.5.0",
          "state": {
            "_dom_classes": [],
            "_model_module": "@jupyter-widgets/controls",
            "_model_module_version": "1.5.0",
            "_model_name": "FloatProgressModel",
            "_view_count": null,
            "_view_module": "@jupyter-widgets/controls",
            "_view_module_version": "1.5.0",
            "_view_name": "ProgressView",
            "bar_style": "success",
            "description": "",
            "description_tooltip": null,
            "layout": "IPY_MODEL_c6ec0c9859e44f91b731fb90952ee426",
            "max": 68261,
            "min": 0,
            "orientation": "horizontal",
            "style": "IPY_MODEL_ef52d9baa6c7409ba954cc2347c737b5",
            "value": 68261
          }
        },
        "cd8b8ba831b64620983da9298692741e": {
          "model_module": "@jupyter-widgets/controls",
          "model_name": "HTMLModel",
          "model_module_version": "1.5.0",
          "state": {
            "_dom_classes": [],
            "_model_module": "@jupyter-widgets/controls",
            "_model_module_version": "1.5.0",
            "_model_name": "HTMLModel",
            "_view_count": null,
            "_view_module": "@jupyter-widgets/controls",
            "_view_module_version": "1.5.0",
            "_view_name": "HTMLView",
            "description": "",
            "description_tooltip": null,
            "layout": "IPY_MODEL_e859b686733640f0a7d47d8b49c888f9",
            "placeholder": "​",
            "style": "IPY_MODEL_a1ca496dfe7b4670a7664299917ad048",
            "value": " 68261/68261 [00:40&lt;00:00, 3385.09it/s]"
          }
        },
        "9fc80ea5951a4701abcec46089054e2c": {
          "model_module": "@jupyter-widgets/base",
          "model_name": "LayoutModel",
          "model_module_version": "1.2.0",
          "state": {
            "_model_module": "@jupyter-widgets/base",
            "_model_module_version": "1.2.0",
            "_model_name": "LayoutModel",
            "_view_count": null,
            "_view_module": "@jupyter-widgets/base",
            "_view_module_version": "1.2.0",
            "_view_name": "LayoutView",
            "align_content": null,
            "align_items": null,
            "align_self": null,
            "border": null,
            "bottom": null,
            "display": null,
            "flex": null,
            "flex_flow": null,
            "grid_area": null,
            "grid_auto_columns": null,
            "grid_auto_flow": null,
            "grid_auto_rows": null,
            "grid_column": null,
            "grid_gap": null,
            "grid_row": null,
            "grid_template_areas": null,
            "grid_template_columns": null,
            "grid_template_rows": null,
            "height": null,
            "justify_content": null,
            "justify_items": null,
            "left": null,
            "margin": null,
            "max_height": null,
            "max_width": null,
            "min_height": null,
            "min_width": null,
            "object_fit": null,
            "object_position": null,
            "order": null,
            "overflow": null,
            "overflow_x": null,
            "overflow_y": null,
            "padding": null,
            "right": null,
            "top": null,
            "visibility": null,
            "width": null
          }
        },
        "959afe1d3f5d408185b74076c5be1f49": {
          "model_module": "@jupyter-widgets/base",
          "model_name": "LayoutModel",
          "model_module_version": "1.2.0",
          "state": {
            "_model_module": "@jupyter-widgets/base",
            "_model_module_version": "1.2.0",
            "_model_name": "LayoutModel",
            "_view_count": null,
            "_view_module": "@jupyter-widgets/base",
            "_view_module_version": "1.2.0",
            "_view_name": "LayoutView",
            "align_content": null,
            "align_items": null,
            "align_self": null,
            "border": null,
            "bottom": null,
            "display": null,
            "flex": null,
            "flex_flow": null,
            "grid_area": null,
            "grid_auto_columns": null,
            "grid_auto_flow": null,
            "grid_auto_rows": null,
            "grid_column": null,
            "grid_gap": null,
            "grid_row": null,
            "grid_template_areas": null,
            "grid_template_columns": null,
            "grid_template_rows": null,
            "height": null,
            "justify_content": null,
            "justify_items": null,
            "left": null,
            "margin": null,
            "max_height": null,
            "max_width": null,
            "min_height": null,
            "min_width": null,
            "object_fit": null,
            "object_position": null,
            "order": null,
            "overflow": null,
            "overflow_x": null,
            "overflow_y": null,
            "padding": null,
            "right": null,
            "top": null,
            "visibility": null,
            "width": null
          }
        },
        "d2228838fcd942c88d3333771961b088": {
          "model_module": "@jupyter-widgets/controls",
          "model_name": "DescriptionStyleModel",
          "model_module_version": "1.5.0",
          "state": {
            "_model_module": "@jupyter-widgets/controls",
            "_model_module_version": "1.5.0",
            "_model_name": "DescriptionStyleModel",
            "_view_count": null,
            "_view_module": "@jupyter-widgets/base",
            "_view_module_version": "1.2.0",
            "_view_name": "StyleView",
            "description_width": ""
          }
        },
        "c6ec0c9859e44f91b731fb90952ee426": {
          "model_module": "@jupyter-widgets/base",
          "model_name": "LayoutModel",
          "model_module_version": "1.2.0",
          "state": {
            "_model_module": "@jupyter-widgets/base",
            "_model_module_version": "1.2.0",
            "_model_name": "LayoutModel",
            "_view_count": null,
            "_view_module": "@jupyter-widgets/base",
            "_view_module_version": "1.2.0",
            "_view_name": "LayoutView",
            "align_content": null,
            "align_items": null,
            "align_self": null,
            "border": null,
            "bottom": null,
            "display": null,
            "flex": null,
            "flex_flow": null,
            "grid_area": null,
            "grid_auto_columns": null,
            "grid_auto_flow": null,
            "grid_auto_rows": null,
            "grid_column": null,
            "grid_gap": null,
            "grid_row": null,
            "grid_template_areas": null,
            "grid_template_columns": null,
            "grid_template_rows": null,
            "height": null,
            "justify_content": null,
            "justify_items": null,
            "left": null,
            "margin": null,
            "max_height": null,
            "max_width": null,
            "min_height": null,
            "min_width": null,
            "object_fit": null,
            "object_position": null,
            "order": null,
            "overflow": null,
            "overflow_x": null,
            "overflow_y": null,
            "padding": null,
            "right": null,
            "top": null,
            "visibility": null,
            "width": null
          }
        },
        "ef52d9baa6c7409ba954cc2347c737b5": {
          "model_module": "@jupyter-widgets/controls",
          "model_name": "ProgressStyleModel",
          "model_module_version": "1.5.0",
          "state": {
            "_model_module": "@jupyter-widgets/controls",
            "_model_module_version": "1.5.0",
            "_model_name": "ProgressStyleModel",
            "_view_count": null,
            "_view_module": "@jupyter-widgets/base",
            "_view_module_version": "1.2.0",
            "_view_name": "StyleView",
            "bar_color": null,
            "description_width": ""
          }
        },
        "e859b686733640f0a7d47d8b49c888f9": {
          "model_module": "@jupyter-widgets/base",
          "model_name": "LayoutModel",
          "model_module_version": "1.2.0",
          "state": {
            "_model_module": "@jupyter-widgets/base",
            "_model_module_version": "1.2.0",
            "_model_name": "LayoutModel",
            "_view_count": null,
            "_view_module": "@jupyter-widgets/base",
            "_view_module_version": "1.2.0",
            "_view_name": "LayoutView",
            "align_content": null,
            "align_items": null,
            "align_self": null,
            "border": null,
            "bottom": null,
            "display": null,
            "flex": null,
            "flex_flow": null,
            "grid_area": null,
            "grid_auto_columns": null,
            "grid_auto_flow": null,
            "grid_auto_rows": null,
            "grid_column": null,
            "grid_gap": null,
            "grid_row": null,
            "grid_template_areas": null,
            "grid_template_columns": null,
            "grid_template_rows": null,
            "height": null,
            "justify_content": null,
            "justify_items": null,
            "left": null,
            "margin": null,
            "max_height": null,
            "max_width": null,
            "min_height": null,
            "min_width": null,
            "object_fit": null,
            "object_position": null,
            "order": null,
            "overflow": null,
            "overflow_x": null,
            "overflow_y": null,
            "padding": null,
            "right": null,
            "top": null,
            "visibility": null,
            "width": null
          }
        },
        "a1ca496dfe7b4670a7664299917ad048": {
          "model_module": "@jupyter-widgets/controls",
          "model_name": "DescriptionStyleModel",
          "model_module_version": "1.5.0",
          "state": {
            "_model_module": "@jupyter-widgets/controls",
            "_model_module_version": "1.5.0",
            "_model_name": "DescriptionStyleModel",
            "_view_count": null,
            "_view_module": "@jupyter-widgets/base",
            "_view_module_version": "1.2.0",
            "_view_name": "StyleView",
            "description_width": ""
          }
        },
        "3ac60fc147de474f9f162b320bb85dba": {
          "model_module": "@jupyter-widgets/controls",
          "model_name": "HBoxModel",
          "model_module_version": "1.5.0",
          "state": {
            "_dom_classes": [],
            "_model_module": "@jupyter-widgets/controls",
            "_model_module_version": "1.5.0",
            "_model_name": "HBoxModel",
            "_view_count": null,
            "_view_module": "@jupyter-widgets/controls",
            "_view_module_version": "1.5.0",
            "_view_name": "HBoxView",
            "box_style": "",
            "children": [
              "IPY_MODEL_80070d5bc0fe4334a04b7131273562ae",
              "IPY_MODEL_c4700fafef244b5894adca505eb3ac42",
              "IPY_MODEL_5bf419395e3f4094b252b333a2f4ed82"
            ],
            "layout": "IPY_MODEL_ec7686c7f337434ba39be09905920df2"
          }
        },
        "80070d5bc0fe4334a04b7131273562ae": {
          "model_module": "@jupyter-widgets/controls",
          "model_name": "HTMLModel",
          "model_module_version": "1.5.0",
          "state": {
            "_dom_classes": [],
            "_model_module": "@jupyter-widgets/controls",
            "_model_module_version": "1.5.0",
            "_model_name": "HTMLModel",
            "_view_count": null,
            "_view_module": "@jupyter-widgets/controls",
            "_view_module_version": "1.5.0",
            "_view_name": "HTMLView",
            "description": "",
            "description_tooltip": null,
            "layout": "IPY_MODEL_cbd6f07a55a240acbdc7c3b182513b95",
            "placeholder": "​",
            "style": "IPY_MODEL_4236f33161b14199a426d78c0bdc87fe",
            "value": "ir-lab-wise-2024/subsampled-ms-marco-deep-learning-20241201-training documents: 100%"
          }
        },
        "c4700fafef244b5894adca505eb3ac42": {
          "model_module": "@jupyter-widgets/controls",
          "model_name": "FloatProgressModel",
          "model_module_version": "1.5.0",
          "state": {
            "_dom_classes": [],
            "_model_module": "@jupyter-widgets/controls",
            "_model_module_version": "1.5.0",
            "_model_name": "FloatProgressModel",
            "_view_count": null,
            "_view_module": "@jupyter-widgets/controls",
            "_view_module_version": "1.5.0",
            "_view_name": "ProgressView",
            "bar_style": "success",
            "description": "",
            "description_tooltip": null,
            "layout": "IPY_MODEL_99b9a371383d41fab9dd80f8ce6da22f",
            "max": 68261,
            "min": 0,
            "orientation": "horizontal",
            "style": "IPY_MODEL_3a6307561bfb4e1fbeae24791c468e96",
            "value": 68261
          }
        },
        "5bf419395e3f4094b252b333a2f4ed82": {
          "model_module": "@jupyter-widgets/controls",
          "model_name": "HTMLModel",
          "model_module_version": "1.5.0",
          "state": {
            "_dom_classes": [],
            "_model_module": "@jupyter-widgets/controls",
            "_model_module_version": "1.5.0",
            "_model_name": "HTMLModel",
            "_view_count": null,
            "_view_module": "@jupyter-widgets/controls",
            "_view_module_version": "1.5.0",
            "_view_name": "HTMLView",
            "description": "",
            "description_tooltip": null,
            "layout": "IPY_MODEL_e4e1c59218be443bbff155105dc28b49",
            "placeholder": "​",
            "style": "IPY_MODEL_5f819c45e3d34f529cd1ce191d7e7c76",
            "value": " 68261/68261 [00:04&lt;00:00, 14941.16it/s]"
          }
        },
        "ec7686c7f337434ba39be09905920df2": {
          "model_module": "@jupyter-widgets/base",
          "model_name": "LayoutModel",
          "model_module_version": "1.2.0",
          "state": {
            "_model_module": "@jupyter-widgets/base",
            "_model_module_version": "1.2.0",
            "_model_name": "LayoutModel",
            "_view_count": null,
            "_view_module": "@jupyter-widgets/base",
            "_view_module_version": "1.2.0",
            "_view_name": "LayoutView",
            "align_content": null,
            "align_items": null,
            "align_self": null,
            "border": null,
            "bottom": null,
            "display": null,
            "flex": null,
            "flex_flow": null,
            "grid_area": null,
            "grid_auto_columns": null,
            "grid_auto_flow": null,
            "grid_auto_rows": null,
            "grid_column": null,
            "grid_gap": null,
            "grid_row": null,
            "grid_template_areas": null,
            "grid_template_columns": null,
            "grid_template_rows": null,
            "height": null,
            "justify_content": null,
            "justify_items": null,
            "left": null,
            "margin": null,
            "max_height": null,
            "max_width": null,
            "min_height": null,
            "min_width": null,
            "object_fit": null,
            "object_position": null,
            "order": null,
            "overflow": null,
            "overflow_x": null,
            "overflow_y": null,
            "padding": null,
            "right": null,
            "top": null,
            "visibility": null,
            "width": null
          }
        },
        "cbd6f07a55a240acbdc7c3b182513b95": {
          "model_module": "@jupyter-widgets/base",
          "model_name": "LayoutModel",
          "model_module_version": "1.2.0",
          "state": {
            "_model_module": "@jupyter-widgets/base",
            "_model_module_version": "1.2.0",
            "_model_name": "LayoutModel",
            "_view_count": null,
            "_view_module": "@jupyter-widgets/base",
            "_view_module_version": "1.2.0",
            "_view_name": "LayoutView",
            "align_content": null,
            "align_items": null,
            "align_self": null,
            "border": null,
            "bottom": null,
            "display": null,
            "flex": null,
            "flex_flow": null,
            "grid_area": null,
            "grid_auto_columns": null,
            "grid_auto_flow": null,
            "grid_auto_rows": null,
            "grid_column": null,
            "grid_gap": null,
            "grid_row": null,
            "grid_template_areas": null,
            "grid_template_columns": null,
            "grid_template_rows": null,
            "height": null,
            "justify_content": null,
            "justify_items": null,
            "left": null,
            "margin": null,
            "max_height": null,
            "max_width": null,
            "min_height": null,
            "min_width": null,
            "object_fit": null,
            "object_position": null,
            "order": null,
            "overflow": null,
            "overflow_x": null,
            "overflow_y": null,
            "padding": null,
            "right": null,
            "top": null,
            "visibility": null,
            "width": null
          }
        },
        "4236f33161b14199a426d78c0bdc87fe": {
          "model_module": "@jupyter-widgets/controls",
          "model_name": "DescriptionStyleModel",
          "model_module_version": "1.5.0",
          "state": {
            "_model_module": "@jupyter-widgets/controls",
            "_model_module_version": "1.5.0",
            "_model_name": "DescriptionStyleModel",
            "_view_count": null,
            "_view_module": "@jupyter-widgets/base",
            "_view_module_version": "1.2.0",
            "_view_name": "StyleView",
            "description_width": ""
          }
        },
        "99b9a371383d41fab9dd80f8ce6da22f": {
          "model_module": "@jupyter-widgets/base",
          "model_name": "LayoutModel",
          "model_module_version": "1.2.0",
          "state": {
            "_model_module": "@jupyter-widgets/base",
            "_model_module_version": "1.2.0",
            "_model_name": "LayoutModel",
            "_view_count": null,
            "_view_module": "@jupyter-widgets/base",
            "_view_module_version": "1.2.0",
            "_view_name": "LayoutView",
            "align_content": null,
            "align_items": null,
            "align_self": null,
            "border": null,
            "bottom": null,
            "display": null,
            "flex": null,
            "flex_flow": null,
            "grid_area": null,
            "grid_auto_columns": null,
            "grid_auto_flow": null,
            "grid_auto_rows": null,
            "grid_column": null,
            "grid_gap": null,
            "grid_row": null,
            "grid_template_areas": null,
            "grid_template_columns": null,
            "grid_template_rows": null,
            "height": null,
            "justify_content": null,
            "justify_items": null,
            "left": null,
            "margin": null,
            "max_height": null,
            "max_width": null,
            "min_height": null,
            "min_width": null,
            "object_fit": null,
            "object_position": null,
            "order": null,
            "overflow": null,
            "overflow_x": null,
            "overflow_y": null,
            "padding": null,
            "right": null,
            "top": null,
            "visibility": null,
            "width": null
          }
        },
        "3a6307561bfb4e1fbeae24791c468e96": {
          "model_module": "@jupyter-widgets/controls",
          "model_name": "ProgressStyleModel",
          "model_module_version": "1.5.0",
          "state": {
            "_model_module": "@jupyter-widgets/controls",
            "_model_module_version": "1.5.0",
            "_model_name": "ProgressStyleModel",
            "_view_count": null,
            "_view_module": "@jupyter-widgets/base",
            "_view_module_version": "1.2.0",
            "_view_name": "StyleView",
            "bar_color": null,
            "description_width": ""
          }
        },
        "e4e1c59218be443bbff155105dc28b49": {
          "model_module": "@jupyter-widgets/base",
          "model_name": "LayoutModel",
          "model_module_version": "1.2.0",
          "state": {
            "_model_module": "@jupyter-widgets/base",
            "_model_module_version": "1.2.0",
            "_model_name": "LayoutModel",
            "_view_count": null,
            "_view_module": "@jupyter-widgets/base",
            "_view_module_version": "1.2.0",
            "_view_name": "LayoutView",
            "align_content": null,
            "align_items": null,
            "align_self": null,
            "border": null,
            "bottom": null,
            "display": null,
            "flex": null,
            "flex_flow": null,
            "grid_area": null,
            "grid_auto_columns": null,
            "grid_auto_flow": null,
            "grid_auto_rows": null,
            "grid_column": null,
            "grid_gap": null,
            "grid_row": null,
            "grid_template_areas": null,
            "grid_template_columns": null,
            "grid_template_rows": null,
            "height": null,
            "justify_content": null,
            "justify_items": null,
            "left": null,
            "margin": null,
            "max_height": null,
            "max_width": null,
            "min_height": null,
            "min_width": null,
            "object_fit": null,
            "object_position": null,
            "order": null,
            "overflow": null,
            "overflow_x": null,
            "overflow_y": null,
            "padding": null,
            "right": null,
            "top": null,
            "visibility": null,
            "width": null
          }
        },
        "5f819c45e3d34f529cd1ce191d7e7c76": {
          "model_module": "@jupyter-widgets/controls",
          "model_name": "DescriptionStyleModel",
          "model_module_version": "1.5.0",
          "state": {
            "_model_module": "@jupyter-widgets/controls",
            "_model_module_version": "1.5.0",
            "_model_name": "DescriptionStyleModel",
            "_view_count": null,
            "_view_module": "@jupyter-widgets/base",
            "_view_module_version": "1.2.0",
            "_view_name": "StyleView",
            "description_width": ""
          }
        }
      }
    }
  },
  "cells": [
    {
      "cell_type": "markdown",
      "metadata": {
        "id": "view-in-github",
        "colab_type": "text"
      },
      "source": [
        "<a href=\"https://colab.research.google.com/github/len-rtz/wir-2024-relevancers/blob/main/relevancers_baseline_system.ipynb\" target=\"_parent\"><img src=\"https://colab.research.google.com/assets/colab-badge.svg\" alt=\"Open In Colab\"/></a>"
      ]
    },
    {
      "cell_type": "markdown",
      "source": [
        "# Baseline System Team \"Relevancers\" TH Köln\n",
        "\n",
        "The following first draft retrieval systems builds onto the baseline system from https://github.com/irgroup-classrooms/wir-2024"
      ],
      "metadata": {
        "id": "2kB99G4rSTex"
      }
    },
    {
      "cell_type": "code",
      "execution_count": 5,
      "metadata": {
        "colab": {
          "base_uri": "https://localhost:8080/"
        },
        "id": "o2kmqUr1SGaH",
        "outputId": "1bb03e1b-ad24-4fc9-9a74-cae619c2db58"
      },
      "outputs": [
        {
          "output_type": "stream",
          "name": "stdout",
          "text": [
            "Requirement already satisfied: tira>=0.0.139 in /usr/local/lib/python3.10/dist-packages (0.0.140)\n",
            "Requirement already satisfied: ir-datasets in /usr/local/lib/python3.10/dist-packages (0.5.9)\n",
            "Requirement already satisfied: python-terrier==0.10.0 in /usr/local/lib/python3.10/dist-packages (0.10.0)\n",
            "Requirement already satisfied: numpy in /usr/local/lib/python3.10/dist-packages (from python-terrier==0.10.0) (1.26.4)\n",
            "Requirement already satisfied: pandas in /usr/local/lib/python3.10/dist-packages (from python-terrier==0.10.0) (2.2.2)\n",
            "Requirement already satisfied: wget in /usr/local/lib/python3.10/dist-packages (from python-terrier==0.10.0) (3.2)\n",
            "Requirement already satisfied: tqdm in /usr/local/lib/python3.10/dist-packages (from python-terrier==0.10.0) (4.67.1)\n",
            "Requirement already satisfied: pyjnius>=1.4.2 in /usr/local/lib/python3.10/dist-packages (from python-terrier==0.10.0) (1.6.1)\n",
            "Requirement already satisfied: matchpy in /usr/local/lib/python3.10/dist-packages (from python-terrier==0.10.0) (0.5.5)\n",
            "Requirement already satisfied: scikit-learn in /usr/local/lib/python3.10/dist-packages (from python-terrier==0.10.0) (1.6.0)\n",
            "Requirement already satisfied: deprecated in /usr/local/lib/python3.10/dist-packages (from python-terrier==0.10.0) (1.2.15)\n",
            "Requirement already satisfied: chest in /usr/local/lib/python3.10/dist-packages (from python-terrier==0.10.0) (0.2.3)\n",
            "Requirement already satisfied: scipy in /usr/local/lib/python3.10/dist-packages (from python-terrier==0.10.0) (1.13.1)\n",
            "Requirement already satisfied: requests in /usr/local/lib/python3.10/dist-packages (from python-terrier==0.10.0) (2.32.3)\n",
            "Requirement already satisfied: joblib in /usr/local/lib/python3.10/dist-packages (from python-terrier==0.10.0) (1.4.2)\n",
            "Requirement already satisfied: nptyping==1.4.4 in /usr/local/lib/python3.10/dist-packages (from python-terrier==0.10.0) (1.4.4)\n",
            "Requirement already satisfied: more-itertools in /usr/local/lib/python3.10/dist-packages (from python-terrier==0.10.0) (10.5.0)\n",
            "Requirement already satisfied: jinja2 in /usr/local/lib/python3.10/dist-packages (from python-terrier==0.10.0) (3.1.4)\n",
            "Requirement already satisfied: statsmodels in /usr/local/lib/python3.10/dist-packages (from python-terrier==0.10.0) (0.14.4)\n",
            "Requirement already satisfied: ir-measures>=0.3.1 in /usr/local/lib/python3.10/dist-packages (from python-terrier==0.10.0) (0.3.6)\n",
            "Requirement already satisfied: dill in /usr/local/lib/python3.10/dist-packages (from python-terrier==0.10.0) (0.3.9)\n",
            "Requirement already satisfied: pytrec-eval-terrier>=0.5.3 in /usr/local/lib/python3.10/dist-packages (from python-terrier==0.10.0) (0.5.6)\n",
            "Requirement already satisfied: typish>=1.7.0 in /usr/local/lib/python3.10/dist-packages (from nptyping==1.4.4->python-terrier==0.10.0) (1.9.3)\n",
            "Requirement already satisfied: docker==7.*,>=7.1.0 in /usr/local/lib/python3.10/dist-packages (from tira>=0.0.139) (7.1.0)\n",
            "Requirement already satisfied: packaging in /usr/local/lib/python3.10/dist-packages (from tira>=0.0.139) (24.2)\n",
            "Requirement already satisfied: urllib3>=1.26.0 in /usr/local/lib/python3.10/dist-packages (from docker==7.*,>=7.1.0->tira>=0.0.139) (2.2.3)\n",
            "Requirement already satisfied: charset-normalizer<4,>=2 in /usr/local/lib/python3.10/dist-packages (from requests->python-terrier==0.10.0) (3.4.0)\n",
            "Requirement already satisfied: idna<4,>=2.5 in /usr/local/lib/python3.10/dist-packages (from requests->python-terrier==0.10.0) (3.10)\n",
            "Requirement already satisfied: certifi>=2017.4.17 in /usr/local/lib/python3.10/dist-packages (from requests->python-terrier==0.10.0) (2024.12.14)\n",
            "Requirement already satisfied: beautifulsoup4>=4.4.1 in /usr/local/lib/python3.10/dist-packages (from ir-datasets) (4.12.3)\n",
            "Requirement already satisfied: inscriptis>=2.2.0 in /usr/local/lib/python3.10/dist-packages (from ir-datasets) (2.5.0)\n",
            "Requirement already satisfied: lxml>=4.5.2 in /usr/local/lib/python3.10/dist-packages (from ir-datasets) (5.3.0)\n",
            "Requirement already satisfied: pyyaml>=5.3.1 in /usr/local/lib/python3.10/dist-packages (from ir-datasets) (6.0.2)\n",
            "Requirement already satisfied: trec-car-tools>=2.5.4 in /usr/local/lib/python3.10/dist-packages (from ir-datasets) (2.6)\n",
            "Requirement already satisfied: lz4>=3.1.10 in /usr/local/lib/python3.10/dist-packages (from ir-datasets) (4.3.3)\n",
            "Requirement already satisfied: warc3-wet>=0.2.3 in /usr/local/lib/python3.10/dist-packages (from ir-datasets) (0.2.5)\n",
            "Requirement already satisfied: warc3-wet-clueweb09>=0.2.5 in /usr/local/lib/python3.10/dist-packages (from ir-datasets) (0.2.5)\n",
            "Requirement already satisfied: zlib-state>=0.1.3 in /usr/local/lib/python3.10/dist-packages (from ir-datasets) (0.1.9)\n",
            "Requirement already satisfied: ijson>=3.1.3 in /usr/local/lib/python3.10/dist-packages (from ir-datasets) (3.3.0)\n",
            "Requirement already satisfied: unlzw3>=0.2.1 in /usr/local/lib/python3.10/dist-packages (from ir-datasets) (0.2.3)\n",
            "Requirement already satisfied: soupsieve>1.2 in /usr/local/lib/python3.10/dist-packages (from beautifulsoup4>=4.4.1->ir-datasets) (2.6)\n",
            "Requirement already satisfied: cbor>=1.0.0 in /usr/local/lib/python3.10/dist-packages (from trec-car-tools>=2.5.4->ir-datasets) (1.0.0)\n",
            "Requirement already satisfied: heapdict in /usr/local/lib/python3.10/dist-packages (from chest->python-terrier==0.10.0) (1.0.1)\n",
            "Requirement already satisfied: wrapt<2,>=1.10 in /usr/local/lib/python3.10/dist-packages (from deprecated->python-terrier==0.10.0) (1.17.0)\n",
            "Requirement already satisfied: MarkupSafe>=2.0 in /usr/local/lib/python3.10/dist-packages (from jinja2->python-terrier==0.10.0) (3.0.2)\n",
            "Requirement already satisfied: multiset<3.0,>=2.0 in /usr/local/lib/python3.10/dist-packages (from matchpy->python-terrier==0.10.0) (2.1.1)\n",
            "Requirement already satisfied: python-dateutil>=2.8.2 in /usr/local/lib/python3.10/dist-packages (from pandas->python-terrier==0.10.0) (2.8.2)\n",
            "Requirement already satisfied: pytz>=2020.1 in /usr/local/lib/python3.10/dist-packages (from pandas->python-terrier==0.10.0) (2024.2)\n",
            "Requirement already satisfied: tzdata>=2022.7 in /usr/local/lib/python3.10/dist-packages (from pandas->python-terrier==0.10.0) (2024.2)\n",
            "Requirement already satisfied: threadpoolctl>=3.1.0 in /usr/local/lib/python3.10/dist-packages (from scikit-learn->python-terrier==0.10.0) (3.5.0)\n",
            "Requirement already satisfied: patsy>=0.5.6 in /usr/local/lib/python3.10/dist-packages (from statsmodels->python-terrier==0.10.0) (1.0.1)\n",
            "Requirement already satisfied: six>=1.5 in /usr/local/lib/python3.10/dist-packages (from python-dateutil>=2.8.2->pandas->python-terrier==0.10.0) (1.17.0)\n"
          ]
        }
      ],
      "source": [
        "# Install and import libraries\n",
        "!pip3 install 'tira>=0.0.139' ir-datasets 'python-terrier==0.10.0'"
      ]
    },
    {
      "cell_type": "code",
      "source": [
        "# Create an API client to interact with the TIRA platform\n",
        "from tira.third_party_integrations import ensure_pyterrier_is_loaded\n",
        "from tira.rest_api_client import Client\n",
        "\n",
        "ensure_pyterrier_is_loaded()\n",
        "tira = Client()"
      ],
      "metadata": {
        "id": "bV_rITFTS2z0"
      },
      "execution_count": 6,
      "outputs": []
    },
    {
      "cell_type": "code",
      "source": [
        "# Load Dataset\n",
        "from pyterrier import get_dataset\n",
        "\n",
        "pt_dataset = get_dataset('irds:ir-lab-wise-2024/subsampled-ms-marco-deep-learning-20241201-training')"
      ],
      "metadata": {
        "id": "xrp7UYefTEi_"
      },
      "execution_count": 7,
      "outputs": []
    },
    {
      "cell_type": "code",
      "source": [
        "# Build an index\n",
        "\n",
        "from pyterrier import IterDictIndexer\n",
        "\n",
        "indexer = IterDictIndexer(\n",
        "    # Store the index in the `index` directory.\n",
        "    \"../data/index\",\n",
        "    meta={'docno': 50, 'text': 4096},\n",
        "    # If an index already exists there, then overwrite it.\n",
        "    overwrite=True,\n",
        ")\n",
        "index = indexer.index(pt_dataset.get_corpus_iter())"
      ],
      "metadata": {
        "colab": {
          "base_uri": "https://localhost:8080/",
          "height": 176,
          "referenced_widgets": [
            "2311cf3528b7441fa6e01254e050fbb5",
            "e09fd05a27664d39ad67072a85f72ed4",
            "4fe444998c574ac3b868919a11eb6e57",
            "cd8b8ba831b64620983da9298692741e",
            "9fc80ea5951a4701abcec46089054e2c",
            "959afe1d3f5d408185b74076c5be1f49",
            "d2228838fcd942c88d3333771961b088",
            "c6ec0c9859e44f91b731fb90952ee426",
            "ef52d9baa6c7409ba954cc2347c737b5",
            "e859b686733640f0a7d47d8b49c888f9",
            "a1ca496dfe7b4670a7664299917ad048"
          ]
        },
        "id": "BVlx69gLTI3Y",
        "outputId": "a76e9ce2-a8a2-4930-9fd4-7b7e4e703283"
      },
      "execution_count": 8,
      "outputs": [
        {
          "output_type": "stream",
          "name": "stdout",
          "text": [
            "Download from Zenodo: https://zenodo.org/records/14254044/files/subsampled-ms-marco-deep-learning-20241201-training-inputs.zip\n"
          ]
        },
        {
          "output_type": "stream",
          "name": "stderr",
          "text": [
            "Download: 100%|██████████| 9.51M/9.51M [00:01<00:00, 7.75MiB/s]\n"
          ]
        },
        {
          "output_type": "stream",
          "name": "stdout",
          "text": [
            "Download finished. Extract...\n",
            "Extraction finished:  /root/.tira/extracted_datasets/ir-lab-wise-2024/subsampled-ms-marco-deep-learning-20241201-training/\n"
          ]
        },
        {
          "output_type": "display_data",
          "data": {
            "text/plain": [
              "ir-lab-wise-2024/subsampled-ms-marco-deep-learning-20241201-training documents:   0%|          | 0/68261 [00:0…"
            ],
            "application/vnd.jupyter.widget-view+json": {
              "version_major": 2,
              "version_minor": 0,
              "model_id": "2311cf3528b7441fa6e01254e050fbb5"
            }
          },
          "metadata": {}
        },
        {
          "output_type": "stream",
          "name": "stdout",
          "text": [
            "17:58:49.402 [ForkJoinPool-1-worker-3] WARN org.terrier.structures.indexing.Indexer - Adding an empty document to the index (6114613) - further warnings are suppressed\n",
            "17:59:07.555 [ForkJoinPool-1-worker-3] WARN org.terrier.structures.indexing.Indexer - Indexed 1 empty documents\n"
          ]
        }
      ]
    },
    {
      "cell_type": "markdown",
      "source": [
        "# Data Cleaning & Preprocessing"
      ],
      "metadata": {
        "id": "euoPOF3bWBox"
      }
    },
    {
      "cell_type": "code",
      "source": [
        "# Import required libraries\n",
        "import nltk\n",
        "from nltk.corpus import stopwords\n",
        "import re\n",
        "\n",
        "# Download stopwords\n",
        "nltk.download('stopwords')\n",
        "stop_words = set(stopwords.words('english'))\n",
        "\n",
        "# Function to remove stopwords\n",
        "def remove_stopwords(text):\n",
        "    return ' '.join([word for word in text.split() if word.lower() not in stop_words])\n",
        "\n",
        "# Function to preprocess text (lowercase and remove punctuation)\n",
        "def preprocess_text(text):\n",
        "    text = text.lower()\n",
        "    text = re.sub(r'[^\\w\\s]', '', text)\n",
        "    return text\n",
        "\n",
        "# Function to validate documents (filter out very short documents)\n",
        "def is_valid_document(doc):\n",
        "    return len(doc['text'].split()) > 5"
      ],
      "metadata": {
        "colab": {
          "base_uri": "https://localhost:8080/"
        },
        "id": "lC9Gg5MGWE1l",
        "outputId": "b8c4e5a7-7103-4128-dd61-414b01f94879"
      },
      "execution_count": 9,
      "outputs": [
        {
          "output_type": "stream",
          "name": "stderr",
          "text": [
            "[nltk_data] Downloading package stopwords to /root/nltk_data...\n",
            "[nltk_data]   Unzipping corpora/stopwords.zip.\n"
          ]
        }
      ]
    },
    {
      "cell_type": "code",
      "source": [
        "# Generate clean_docs by applying preprocessing functions\n",
        "clean_docs = [\n",
        "    {**doc, 'text': preprocess_text(remove_stopwords(doc['text']))}\n",
        "    for doc in pt_dataset.get_corpus_iter() if is_valid_document(doc)\n",
        "]\n",
        "\n",
        "# Check the number of cleaned documents and inspect a sample\n",
        "print(\"Number of cleaned documents:\", len(clean_docs))\n",
        "print(\"Sample document:\", clean_docs[0])\n",
        "\n",
        "def is_valid_document(doc):\n",
        "    cleaned_text = preprocess_text(remove_stopwords(doc['text']))\n",
        "    return len(cleaned_text.split()) > 5  # Keep only documents with more than 5 words"
      ],
      "metadata": {
        "colab": {
          "base_uri": "https://localhost:8080/",
          "height": 85,
          "referenced_widgets": [
            "3ac60fc147de474f9f162b320bb85dba",
            "80070d5bc0fe4334a04b7131273562ae",
            "c4700fafef244b5894adca505eb3ac42",
            "5bf419395e3f4094b252b333a2f4ed82",
            "ec7686c7f337434ba39be09905920df2",
            "cbd6f07a55a240acbdc7c3b182513b95",
            "4236f33161b14199a426d78c0bdc87fe",
            "99b9a371383d41fab9dd80f8ce6da22f",
            "3a6307561bfb4e1fbeae24791c468e96",
            "e4e1c59218be443bbff155105dc28b49",
            "5f819c45e3d34f529cd1ce191d7e7c76"
          ]
        },
        "id": "7QQciwB5WNTa",
        "outputId": "9a188367-a94b-41d9-ca29-14a0767341bb"
      },
      "execution_count": 10,
      "outputs": [
        {
          "output_type": "display_data",
          "data": {
            "text/plain": [
              "ir-lab-wise-2024/subsampled-ms-marco-deep-learning-20241201-training documents:   0%|          | 0/68261 [00:0…"
            ],
            "application/vnd.jupyter.widget-view+json": {
              "version_major": 2,
              "version_minor": 0,
              "model_id": "3ac60fc147de474f9f162b320bb85dba"
            }
          },
          "metadata": {}
        },
        {
          "output_type": "stream",
          "name": "stdout",
          "text": [
            "Number of cleaned documents: 68253\n",
            "Sample document: {'text': 'voe im really sure voe know need get permit exactly get voe', 'docno': '4459825'}\n"
          ]
        }
      ]
    },
    {
      "cell_type": "markdown",
      "source": [
        "# Create Index"
      ],
      "metadata": {
        "id": "CbO_G7E0XZz7"
      }
    },
    {
      "cell_type": "code",
      "source": [
        "import os\n",
        "import pyterrier as pt\n",
        "\n",
        "# Initialize PyTerrier\n",
        "if not pt.started():\n",
        "    pt.init()\n",
        "\n",
        "# Define the index path\n",
        "index_path = \"/content/wir-2024-relevancers/data/clean_index\"\n",
        "\n",
        "# Create the directory if it doesn't exist\n",
        "os.makedirs(index_path, exist_ok=True)\n",
        "\n",
        "# Example function: Validate documents for indexing\n",
        "def is_valid_document(doc):\n",
        "    # Ensure the document is not empty after cleaning\n",
        "    cleaned_text = preprocess_text(remove_stopwords(doc['text']))\n",
        "    return len(cleaned_text.split()) > 5  # Keep only documents with more than 5 words\n",
        "\n",
        "# Create the index using IterDictIndexer\n",
        "indexer = pt.IterDictIndexer(index_path, meta={'docno': 50, 'text': 4096}, overwrite=True)\n",
        "\n",
        "# Replace `clean_docs` with your iterable of documents\n",
        "# Ensure `clean_docs` is an iterable of dictionaries with at least `docno` and `text` keys\n",
        "index = indexer.index(iter(clean_docs))\n",
        "\n",
        "# Print success message\n",
        "print(\"Index created successfully!\")\n",
        "\n",
        "# Load the created index\n",
        "index_object = pt.IndexFactory.of(index_path)\n",
        "\n",
        "# Validate the index by printing collection statistics\n",
        "print(index_object.getCollectionStatistics().toString())\n",
        "\n",
        "# Convert the index path to an IndexRef\n",
        "index_ref = pt.IndexRef.of(index_path)\n",
        "\n",
        "# Print to confirm the type of index_ref\n",
        "print(\"IndexRef type:\", type(index_ref))  # Should print <class 'pyterrier.querying.IndexRef'>"
      ],
      "metadata": {
        "colab": {
          "base_uri": "https://localhost:8080/"
        },
        "id": "lV3aHZlrXLnm",
        "outputId": "7483225a-cc31-43a6-e1e8-cc5d1287723f"
      },
      "execution_count": 11,
      "outputs": [
        {
          "output_type": "stream",
          "name": "stdout",
          "text": [
            "17:59:34.452 [ForkJoinPool-2-worker-3] WARN org.terrier.structures.indexing.Indexer - Adding an empty document to the index (976964) - further warnings are suppressed\n",
            "17:59:49.573 [ForkJoinPool-2-worker-3] WARN org.terrier.structures.indexing.Indexer - Indexed 1 empty documents\n",
            "Index created successfully!\n",
            "Number of documents: 68253\n",
            "Number of terms: 95646\n",
            "Number of postings: 1565316\n",
            "Number of fields: 1\n",
            "Number of tokens: 2196421\n",
            "Field names: [text]\n",
            "Positions:   false\n",
            "\n",
            "IndexRef type: <class 'jnius.reflect.org.terrier.querying.IndexRef'>\n"
          ]
        }
      ]
    },
    {
      "cell_type": "markdown",
      "source": [
        "# Retrieval with RM3 Query Expansion"
      ],
      "metadata": {
        "id": "hGJ94cPKXRdj"
      }
    },
    {
      "cell_type": "code",
      "source": [
        "# Step 1: Define BM25 Retrieval Pipeline\n",
        "bm25 = pt.BatchRetrieve(index_ref, wmodel=\"BM25\")\n",
        "\n",
        "# Step 2: Chain RM3 with BM25\n",
        "bm25_rm3 = bm25 >> pt.rewrite.RM3(index_ref) >> bm25\n",
        "\n",
        "# Step 3: Test RM3 Pipeline\n",
        "topics = pt_dataset.get_topics('text')  # Load topics\n",
        "rm3_results = bm25_rm3.transform(topics)\n",
        "\n",
        "print(\"BM25+RM3 Results:\")\n",
        "print(rm3_results.head())\n",
        "print(\"Columns in RM3 Results:\", rm3_results.columns)"
      ],
      "metadata": {
        "colab": {
          "base_uri": "https://localhost:8080/"
        },
        "id": "x3mrfNf6XMhR",
        "outputId": "3d721990-689f-48f6-aaaf-bcc55e597c8a"
      },
      "execution_count": 12,
      "outputs": [
        {
          "output_type": "stream",
          "name": "stdout",
          "text": [
            "Download from Zenodo: https://zenodo.org/records/14254044/files/subsampled-ms-marco-deep-learning-20241201-training-truths.zip\n"
          ]
        },
        {
          "output_type": "stream",
          "name": "stderr",
          "text": [
            "Download: 100%|██████████| 61.7k/61.7k [00:00<00:00, 231kiB/s]\n"
          ]
        },
        {
          "output_type": "stream",
          "name": "stdout",
          "text": [
            "Download finished. Extract...\n",
            "Extraction finished:  /root/.tira/extracted_datasets/ir-lab-wise-2024/subsampled-ms-marco-deep-learning-20241201-training/\n",
            "BM25+RM3 Results:\n",
            "       qid  docid    docno  rank      score             query_0  \\\n",
            "0  1030303  53844  8726436     0  38.501560  who is aziz hashim   \n",
            "1  1030303  62108  8726435     1  30.684877  who is aziz hashim   \n",
            "2  1030303  56033  8726433     2  27.497540  who is aziz hashim   \n",
            "3  1030303  35862  8726437     3  26.724978  who is aziz hashim   \n",
            "4  1030303  32178  8726429     4  24.604161  who is aziz hashim   \n",
            "\n",
            "                                               query  \n",
            "0  applypipeline:off partner^0.028783683 capit^0....  \n",
            "1  applypipeline:off partner^0.028783683 capit^0....  \n",
            "2  applypipeline:off partner^0.028783683 capit^0....  \n",
            "3  applypipeline:off partner^0.028783683 capit^0....  \n",
            "4  applypipeline:off partner^0.028783683 capit^0....  \n",
            "Columns in RM3 Results: Index(['qid', 'docid', 'docno', 'rank', 'score', 'query_0', 'query'], dtype='object')\n"
          ]
        }
      ]
    },
    {
      "cell_type": "code",
      "source": [],
      "metadata": {
        "id": "zuZzIIsIYQNs"
      },
      "execution_count": null,
      "outputs": []
    }
  ]
}